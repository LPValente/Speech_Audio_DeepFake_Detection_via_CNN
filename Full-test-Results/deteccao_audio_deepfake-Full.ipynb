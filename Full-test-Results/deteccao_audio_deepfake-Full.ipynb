{
  "cells": [
    {
      "attachments": {},
      "cell_type": "markdown",
      "metadata": {
        "id": "GCMidAfodcik"
      },
      "source": [
        "# Detecção de DeepFake de áudio a partir de imagens"
      ]
    },
    {
      "cell_type": "markdown",
      "metadata": {},
      "source": [
        "Instala todas as dependências necessárias"
      ]
    },
    {
      "cell_type": "code",
      "execution_count": 63,
      "metadata": {},
      "outputs": [],
      "source": [
        "# importa as bibliotecas\n",
        "\n",
        "import tensorflow as tf\n",
        "import numpy as np\n",
        "import pandas as pd\n",
        "import os\n",
        "from PIL import Image\n",
        "from PIL import ImageFont\n",
        "import matplotlib.pyplot as plt\n",
        "import visualkeras as vk\n",
        "\n",
        "from keras.models import Sequential\n",
        "from keras.callbacks import EarlyStopping, ReduceLROnPlateau\n",
        "from keras.layers import Conv2D, MaxPooling2D, AveragePooling2D, Dropout, Flatten, Dense, Activation, BatchNormalization\n",
        "from keras.callbacks import ModelCheckpoint, EarlyStopping, TensorBoard\n",
        "from keras.losses import CategoricalCrossentropy\n",
        "from keras.losses import categorical_crossentropy\n",
        "from keras import regularizers\n",
        "from keras import initializers\n",
        "import time\n",
        "from keras.preprocessing.image import ImageDataGenerator  # , load_img\n",
        "from keras.utils import to_categorical, plot_model\n",
        "from keras.metrics import CategoricalAccuracy\n",
        "from sklearn.metrics import confusion_matrix\n",
        "from sklearn.metrics import ConfusionMatrixDisplay\n",
        "#from sklearn.metrics import plot_confusion_matrix\n",
        "from sklearn.model_selection import train_test_split\n",
        "from sklearn import metrics\n",
        "from sklearn.metrics import accuracy_score, f1_score, precision_score, recall_score\n",
        "from sklearn.preprocessing import OrdinalEncoder"
      ]
    },
    {
      "cell_type": "code",
      "execution_count": 26,
      "metadata": {},
      "outputs": [
        {
          "name": "stdout",
          "output_type": "stream",
          "text": [
            "Num GPUs Available:  2\n"
          ]
        },
        {
          "data": {
            "text/plain": [
              "[PhysicalDevice(name='/physical_device:GPU:0', device_type='GPU'),\n",
              " PhysicalDevice(name='/physical_device:GPU:1', device_type='GPU')]"
            ]
          },
          "execution_count": 26,
          "metadata": {},
          "output_type": "execute_result"
        }
      ],
      "source": [
        "print(\"Num GPUs Available: \", len(tf.config.list_physical_devices('GPU')))\n",
        "\n",
        "tf.config.list_physical_devices('GPU')"
      ]
    },
    {
      "cell_type": "code",
      "execution_count": 27,
      "metadata": {},
      "outputs": [],
      "source": [
        "#TF_GPU_ALLOCATOR=cuda_malloc_async\n",
        "# Começa a contar o tempo de processamento\n",
        "start_time = time.time()\n",
        "\n",
        "# Setando o endereço dos arquivos\n",
        "\n",
        "os.getcwd()\n",
        "\n",
        "\n",
        "Path = '/mnt/f/Google Drive/EnsinoAprendizagem/UFC/Mestrado/Dissertação/Datasets/'\n",
        "PathASV = 'ASVspoof/PA/PA/'\n",
        "PathWave = 'WaveFake/newData/'\n",
        "PathFoR = 'FoR/for-2sec-mel/'"
      ]
    },
    {
      "cell_type": "markdown",
      "metadata": {},
      "source": [
        "### Funções Aplicadas"
      ]
    },
    {
      "cell_type": "code",
      "execution_count": 28,
      "metadata": {},
      "outputs": [],
      "source": [
        "def createList(paths,classe):\n",
        "    auxLista = []\n",
        "    auxDir = []\n",
        "    for i in paths:\n",
        "        lista = os.listdir(i)\n",
        "        try:\n",
        "            lista.remove(\"desktop.ini\")\n",
        "        except:\n",
        "            print(\"não existe desktop.ini\")\n",
        "        \n",
        "        for j in lista:\n",
        "            auxLista.append(classe)\n",
        "            auxDir.append(i + j)\n",
        "            \n",
        "    return pd.DataFrame({'filename': auxDir, 'category': auxLista})"
      ]
    },
    {
      "cell_type": "code",
      "execution_count": 29,
      "metadata": {},
      "outputs": [],
      "source": [
        "def datagenCreate(data, Path, IMAGE_SIZE, batch_size,shuffle):\n",
        "    test_datagen = ImageDataGenerator(\n",
        "        rescale=1./255)\n",
        "    test_generator = test_datagen.flow_from_dataframe(\n",
        "        data,\n",
        "        Path,\n",
        "        x_col='filename',\n",
        "        y_col='category',\n",
        "        seed=30,\n",
        "        target_size=IMAGE_SIZE,\n",
        "        class_mode='categorical',\n",
        "        batch_size=batch_size,\n",
        "        shuffle=shuffle\n",
        "    )\n",
        "    return test_generator"
      ]
    },
    {
      "cell_type": "code",
      "execution_count": 30,
      "metadata": {},
      "outputs": [],
      "source": [
        "def prediction(data, total_test, batch_size, model):\n",
        "    predict = model.predict(\n",
        "        data,\n",
        "        steps=np.ceil(total_test/batch_size),\n",
        "        verbose=1)\n",
        "    \n",
        "    return predict"
      ]
    },
    {
      "cell_type": "code",
      "execution_count": 31,
      "metadata": {},
      "outputs": [],
      "source": [
        "def plotConfusionMatrix(predicted,original):\n",
        "    conf = confusion_matrix(y_pred=predicted,y_true=original)\n",
        "    disp = ConfusionMatrixDisplay(conf)\n",
        "    disp.plot()\n",
        "    plt.show()"
      ]
    },
    {
      "cell_type": "code",
      "execution_count": 32,
      "metadata": {},
      "outputs": [],
      "source": [
        "def results(dataModel, testModel, predicted, original):\n",
        "    \n",
        "    pred = []\n",
        "    orig = []\n",
        "    for cat in predicted:\n",
        "        if cat == 'Fake':\n",
        "            pred.append(0)\n",
        "        else:\n",
        "            pred.append(1)\n",
        "            \n",
        "    for cat in original:\n",
        "        if cat == 'Fake':\n",
        "            orig.append(0)\n",
        "        else:\n",
        "            orig.append(1)\n",
        "    \n",
        "    print(\"\\nTraining Dataset: \" + dataModel + \"  Test Basis: \" + testModel)\n",
        "    print(\"Accuracy: \" + str(accuracy_score(orig, pred)))\n",
        "    print(\"F1-score: \" + str(f1_score(orig, pred)))\n",
        "    print(\"Precision: \" + str(precision_score(orig, pred)))\n",
        "    print(\"Recall: \" + str(recall_score(orig, pred)))"
      ]
    },
    {
      "cell_type": "markdown",
      "metadata": {},
      "source": [
        "### Criação do Banco de Dados a Partir das Imagens"
      ]
    },
    {
      "cell_type": "code",
      "execution_count": 33,
      "metadata": {},
      "outputs": [],
      "source": [
        "os.chdir(Path)\n",
        "\n",
        "real = createList([PathFoR + \"testing/real/\",\n",
        "                   PathFoR + \"training/real/\",\n",
        "                   PathFoR + \"validation/real/\"],\n",
        "                  1)\n",
        "fake = createList([PathFoR + \"testing/fake/\",\n",
        "                   PathFoR + \"training/fake/\",\n",
        "                   PathFoR + \"validation/fake/\"],\n",
        "                  0)\n",
        "\n",
        "FoRData = [real, fake]\n",
        "FoRData = pd.concat(FoRData).replace({1: 'Real', 0: 'Fake'})\n",
        "\n",
        "trFoR, tsFoR = train_test_split(FoRData, test_size=0.3, random_state=42)\n",
        "tsFoR, vlFoR = train_test_split(tsFoR, test_size= 0.5, random_state=42)"
      ]
    },
    {
      "cell_type": "code",
      "execution_count": 34,
      "metadata": {},
      "outputs": [],
      "source": [
        "os.chdir(Path)\n",
        "\n",
        "real = createList([PathWave + \"realImgMEL/\"],1)\n",
        "fake = createList([PathWave + \"fakeImgMEL/\"],0)\n",
        "fake = fake.sample(frac=1).reset_index(drop=True)\n",
        "\n",
        "fake1 = fake[:len(real)]\n",
        "#fake2 = fake[len(real):].replace({0: 'Fake'})\n",
        "\n",
        "WaveData = [real, fake1]\n",
        "WaveData = pd.concat(WaveData).replace({1: 'Real', 0: 'Fake'})\n",
        "\n",
        "trWave, tsWave = train_test_split(WaveData, test_size=0.3, random_state=42)\n",
        "tsWave, vlWave = train_test_split(tsWave, test_size= 0.5, random_state=42)\n",
        "#tsWave = pd.concat([tsWave, fake2])"
      ]
    },
    {
      "cell_type": "code",
      "execution_count": 35,
      "metadata": {},
      "outputs": [
        {
          "name": "stdout",
          "output_type": "stream",
          "text": [
            "não existe desktop.ini\n",
            "não existe desktop.ini\n"
          ]
        }
      ],
      "source": [
        "os.chdir(Path)\n",
        "\n",
        "real = createList([PathASV + \"realImgMEL/\"],1)\n",
        "fake = createList([PathASV + \"fakeImgMEL/\"],0)\n",
        "fake = fake.sample(frac=1).reset_index(drop=True)\n",
        "\n",
        "fake1 = fake[:len(real)]\n",
        "#fake2 = fake[len(real):].replace({0: 'Fake'})\n",
        "\n",
        "ASVData = [real, fake1]\n",
        "ASVData = pd.concat(ASVData).replace({1: 'Real', 0: 'Fake'})\n",
        "\n",
        "trASV, tsASV = train_test_split(ASVData, test_size=0.3, random_state=42)\n",
        "tsASV, vlASV = train_test_split(tsASV, test_size= 0.5, random_state=42)\n",
        "#tsWave = pd.concat([tsWave, fake2])"
      ]
    },
    {
      "cell_type": "code",
      "execution_count": 36,
      "metadata": {},
      "outputs": [],
      "source": [
        "tr = pd.concat([trFoR, trASV, trWave])\n",
        "vl = pd.concat([vlFoR, vlASV, vlWave])"
      ]
    },
    {
      "cell_type": "markdown",
      "metadata": {},
      "source": [
        "### Modelagem da CNN"
      ]
    },
    {
      "cell_type": "code",
      "execution_count": 37,
      "metadata": {},
      "outputs": [],
      "source": [
        "os.chdir(Path)"
      ]
    },
    {
      "cell_type": "code",
      "execution_count": 38,
      "metadata": {},
      "outputs": [],
      "source": [
        "# Define Constants\n",
        "FAST_RUN = True\n",
        "IMAGE_WIDTH=256\n",
        "IMAGE_HEIGHT=256\n",
        "IMAGE_SIZE=(IMAGE_WIDTH, IMAGE_HEIGHT)\n",
        "IMAGE_CHANNELS=3"
      ]
    },
    {
      "cell_type": "code",
      "execution_count": 39,
      "metadata": {},
      "outputs": [
        {
          "name": "stderr",
          "output_type": "stream",
          "text": [
            "2024-02-01 11:21:21.575353: I tensorflow/compiler/xla/stream_executor/cuda/cuda_gpu_executor.cc:981] could not open file to read NUMA node: /sys/bus/pci/devices/0000:05:00.0/numa_node\n",
            "Your kernel may have been built without NUMA support.\n",
            "2024-02-01 11:21:21.576359: I tensorflow/compiler/xla/stream_executor/cuda/cuda_gpu_executor.cc:981] could not open file to read NUMA node: /sys/bus/pci/devices/0000:81:00.0/numa_node\n",
            "Your kernel may have been built without NUMA support.\n",
            "2024-02-01 11:21:21.577155: I tensorflow/compiler/xla/stream_executor/cuda/cuda_gpu_executor.cc:981] could not open file to read NUMA node: /sys/bus/pci/devices/0000:05:00.0/numa_node\n",
            "Your kernel may have been built without NUMA support.\n",
            "2024-02-01 11:21:21.577892: I tensorflow/compiler/xla/stream_executor/cuda/cuda_gpu_executor.cc:981] could not open file to read NUMA node: /sys/bus/pci/devices/0000:81:00.0/numa_node\n",
            "Your kernel may have been built without NUMA support.\n",
            "2024-02-01 11:21:21.578672: I tensorflow/compiler/xla/stream_executor/cuda/cuda_gpu_executor.cc:981] could not open file to read NUMA node: /sys/bus/pci/devices/0000:05:00.0/numa_node\n",
            "Your kernel may have been built without NUMA support.\n",
            "2024-02-01 11:21:21.579413: I tensorflow/compiler/xla/stream_executor/cuda/cuda_gpu_executor.cc:981] could not open file to read NUMA node: /sys/bus/pci/devices/0000:81:00.0/numa_node\n",
            "Your kernel may have been built without NUMA support.\n",
            "2024-02-01 11:21:21.610537: I tensorflow/compiler/xla/stream_executor/cuda/cuda_gpu_executor.cc:981] could not open file to read NUMA node: /sys/bus/pci/devices/0000:05:00.0/numa_node\n",
            "Your kernel may have been built without NUMA support.\n",
            "2024-02-01 11:21:21.611541: I tensorflow/compiler/xla/stream_executor/cuda/cuda_gpu_executor.cc:981] could not open file to read NUMA node: /sys/bus/pci/devices/0000:81:00.0/numa_node\n",
            "Your kernel may have been built without NUMA support.\n",
            "2024-02-01 11:21:21.612376: I tensorflow/compiler/xla/stream_executor/cuda/cuda_gpu_executor.cc:981] could not open file to read NUMA node: /sys/bus/pci/devices/0000:05:00.0/numa_node\n",
            "Your kernel may have been built without NUMA support.\n",
            "2024-02-01 11:21:21.612399: I tensorflow/core/common_runtime/gpu/gpu_device.cc:1726] Could not identify NUMA node of platform GPU id 0, defaulting to 0.  Your kernel may not have been built with NUMA support.\n",
            "2024-02-01 11:21:21.613222: I tensorflow/compiler/xla/stream_executor/cuda/cuda_gpu_executor.cc:981] could not open file to read NUMA node: /sys/bus/pci/devices/0000:81:00.0/numa_node\n",
            "Your kernel may have been built without NUMA support.\n",
            "2024-02-01 11:21:21.613242: I tensorflow/core/common_runtime/gpu/gpu_device.cc:1726] Could not identify NUMA node of platform GPU id 1, defaulting to 0.  Your kernel may not have been built with NUMA support.\n",
            "2024-02-01 11:21:21.614044: I tensorflow/compiler/xla/stream_executor/cuda/cuda_gpu_executor.cc:981] could not open file to read NUMA node: /sys/bus/pci/devices/0000:05:00.0/numa_node\n",
            "Your kernel may have been built without NUMA support.\n",
            "2024-02-01 11:21:21.614216: I tensorflow/core/common_runtime/gpu/gpu_device.cc:1639] Created device /job:localhost/replica:0/task:0/device:GPU:0 with 3995 MB memory:  -> device: 0, name: NVIDIA GeForce RTX 4070, pci bus id: 0000:05:00.0, compute capability: 8.9\n",
            "2024-02-01 11:21:21.616681: I tensorflow/compiler/xla/stream_executor/cuda/cuda_gpu_executor.cc:981] could not open file to read NUMA node: /sys/bus/pci/devices/0000:81:00.0/numa_node\n",
            "Your kernel may have been built without NUMA support.\n",
            "2024-02-01 11:21:21.616721: I tensorflow/core/common_runtime/gpu/gpu_device.cc:1639] Created device /job:localhost/replica:0/task:0/device:GPU:1 with 9725 MB memory:  -> device: 1, name: NVIDIA GeForce RTX 3060, pci bus id: 0000:81:00.0, compute capability: 8.6\n"
          ]
        }
      ],
      "source": [
        "# Gerando o modelo\n",
        "model = Sequential()\n",
        "\n",
        "model.add(Conv2D(8, (5, 5), activation='relu', input_shape=(\n",
        "    IMAGE_WIDTH, IMAGE_HEIGHT, IMAGE_CHANNELS)))\n",
        "model.add(BatchNormalization())\n",
        "model.add(AveragePooling2D(pool_size=(2, 2)))\n",
        "model.add(Dropout(0.25))\n",
        "\n",
        "model.add(Conv2D(8, (1, 1), activation='relu'))\n",
        "model.add(BatchNormalization())\n",
        "model.add(Conv2D(16, (3, 3), activation='relu'))\n",
        "model.add(BatchNormalization())\n",
        "model.add(AveragePooling2D(pool_size=(2, 2)))\n",
        "model.add(Dropout(0.25))\n",
        "\n",
        "model.add(Conv2D(16, (1, 1), activation='relu'))\n",
        "model.add(BatchNormalization())\n",
        "model.add(Conv2D(32, (3, 3), activation='relu'))\n",
        "model.add(BatchNormalization())\n",
        "model.add(AveragePooling2D(pool_size=(2, 2)))\n",
        "model.add(Dropout(0.25))\n",
        "\n",
        "model.add(Conv2D(32, (1, 1), activation='relu'))\n",
        "model.add(BatchNormalization())\n",
        "model.add(Conv2D(64, (3, 3), activation='relu'))\n",
        "model.add(BatchNormalization())\n",
        "model.add(AveragePooling2D(pool_size=(2, 2)))\n",
        "model.add(Dropout(0.25))\n",
        "\n",
        "model.add(Conv2D(64, (1, 1), activation='relu'))\n",
        "model.add(BatchNormalization())\n",
        "model.add(Conv2D(128, (3, 3), activation='relu'))\n",
        "model.add(BatchNormalization())\n",
        "model.add(AveragePooling2D(pool_size=(2, 2)))\n",
        "model.add(Dropout(0.25))\n",
        "\n",
        "'''\n",
        "model.add(Conv2D(16, (3, 3), activation='relu'))\n",
        "model.add(BatchNormalization())\n",
        "model.add(MaxPooling2D(pool_size=(2, 2)))\n",
        "model.add(Dropout(0.25))\n",
        "'''\n",
        "model.add(Flatten())\n",
        "model.add(Dropout(0.25))\n",
        "model.add(Dense(\n",
        "    5000,\n",
        "    kernel_regularizer=regularizers.L1L2(l1=1e-5, l2=1e-4),\n",
        "    bias_regularizer=regularizers.L2(1e-4),\n",
        "    activity_regularizer=regularizers.L2(1e-5),\n",
        "    activation='relu',\n",
        "    kernel_initializer=initializers.RandomNormal(stddev=0.01),\n",
        "    bias_initializer=initializers.Zeros()))\n",
        "model.add(BatchNormalization())\n",
        "model.add(Dropout(0.25))\n",
        "model.add(Dense(\n",
        "    2,\n",
        "    kernel_regularizer=regularizers.L1L2(l1=1e-5, l2=1e-4),\n",
        "    bias_regularizer=regularizers.L2(1e-4),\n",
        "    activity_regularizer=regularizers.L2(1e-5),\n",
        "    activation='softmax',\n",
        "    kernel_initializer=initializers.RandomNormal(stddev=0.01),\n",
        "    bias_initializer=initializers.Zeros()))"
      ]
    },
    {
      "cell_type": "code",
      "execution_count": 40,
      "metadata": {},
      "outputs": [
        {
          "name": "stdout",
          "output_type": "stream",
          "text": [
            "Model: \"sequential\"\n",
            "_________________________________________________________________\n",
            " Layer (type)                Output Shape              Param #   \n",
            "=================================================================\n",
            " conv2d (Conv2D)             (None, 252, 252, 8)       608       \n",
            "                                                                 \n",
            " batch_normalization (Batch  (None, 252, 252, 8)       32        \n",
            " Normalization)                                                  \n",
            "                                                                 \n",
            " average_pooling2d (Average  (None, 126, 126, 8)       0         \n",
            " Pooling2D)                                                      \n",
            "                                                                 \n",
            " dropout (Dropout)           (None, 126, 126, 8)       0         \n",
            "                                                                 \n",
            " conv2d_1 (Conv2D)           (None, 126, 126, 8)       72        \n",
            "                                                                 \n",
            " batch_normalization_1 (Bat  (None, 126, 126, 8)       32        \n",
            " chNormalization)                                                \n",
            "                                                                 \n",
            " conv2d_2 (Conv2D)           (None, 124, 124, 16)      1168      \n",
            "                                                                 \n",
            " batch_normalization_2 (Bat  (None, 124, 124, 16)      64        \n",
            " chNormalization)                                                \n",
            "                                                                 \n",
            " average_pooling2d_1 (Avera  (None, 62, 62, 16)        0         \n",
            " gePooling2D)                                                    \n",
            "                                                                 \n",
            " dropout_1 (Dropout)         (None, 62, 62, 16)        0         \n",
            "                                                                 \n",
            " conv2d_3 (Conv2D)           (None, 62, 62, 16)        272       \n",
            "                                                                 \n",
            " batch_normalization_3 (Bat  (None, 62, 62, 16)        64        \n",
            " chNormalization)                                                \n",
            "                                                                 \n",
            " conv2d_4 (Conv2D)           (None, 60, 60, 32)        4640      \n",
            "                                                                 \n",
            " batch_normalization_4 (Bat  (None, 60, 60, 32)        128       \n",
            " chNormalization)                                                \n",
            "                                                                 \n",
            " average_pooling2d_2 (Avera  (None, 30, 30, 32)        0         \n",
            " gePooling2D)                                                    \n",
            "                                                                 \n",
            " dropout_2 (Dropout)         (None, 30, 30, 32)        0         \n",
            "                                                                 \n",
            " conv2d_5 (Conv2D)           (None, 30, 30, 32)        1056      \n",
            "                                                                 \n",
            " batch_normalization_5 (Bat  (None, 30, 30, 32)        128       \n",
            " chNormalization)                                                \n",
            "                                                                 \n",
            " conv2d_6 (Conv2D)           (None, 28, 28, 64)        18496     \n",
            "                                                                 \n"
          ]
        },
        {
          "name": "stdout",
          "output_type": "stream",
          "text": [
            " batch_normalization_6 (Bat  (None, 28, 28, 64)        256       \n",
            " chNormalization)                                                \n",
            "                                                                 \n",
            " average_pooling2d_3 (Avera  (None, 14, 14, 64)        0         \n",
            " gePooling2D)                                                    \n",
            "                                                                 \n",
            " dropout_3 (Dropout)         (None, 14, 14, 64)        0         \n",
            "                                                                 \n",
            " conv2d_7 (Conv2D)           (None, 14, 14, 64)        4160      \n",
            "                                                                 \n",
            " batch_normalization_7 (Bat  (None, 14, 14, 64)        256       \n",
            " chNormalization)                                                \n",
            "                                                                 \n",
            " conv2d_8 (Conv2D)           (None, 12, 12, 128)       73856     \n",
            "                                                                 \n",
            " batch_normalization_8 (Bat  (None, 12, 12, 128)       512       \n",
            " chNormalization)                                                \n",
            "                                                                 \n",
            " average_pooling2d_4 (Avera  (None, 6, 6, 128)         0         \n",
            " gePooling2D)                                                    \n",
            "                                                                 \n",
            " dropout_4 (Dropout)         (None, 6, 6, 128)         0         \n",
            "                                                                 \n",
            " flatten (Flatten)           (None, 4608)              0         \n",
            "                                                                 \n",
            " dropout_5 (Dropout)         (None, 4608)              0         \n",
            "                                                                 \n",
            " dense (Dense)               (None, 5000)              23045000  \n",
            "                                                                 \n",
            " batch_normalization_9 (Bat  (None, 5000)              20000     \n",
            " chNormalization)                                                \n",
            "                                                                 \n",
            " dropout_6 (Dropout)         (None, 5000)              0         \n",
            "                                                                 \n",
            " dense_1 (Dense)             (None, 2)                 10002     \n",
            "                                                                 \n",
            "=================================================================\n",
            "Total params: 23180802 (88.43 MB)\n",
            "Trainable params: 23170066 (88.39 MB)\n",
            "Non-trainable params: 10736 (41.94 KB)\n",
            "_________________________________________________________________\n"
          ]
        }
      ],
      "source": [
        "opt = tf.keras.optimizers.Adam(\n",
        "    learning_rate=0.001,\n",
        "    beta_1=0.9,\n",
        "    beta_2=0.999,\n",
        "    epsilon=1e-07,\n",
        "    amsgrad=False,\n",
        "    name=\"adam\"\n",
        ")\n",
        "'''\n",
        "opt = tf.keras.optimizers.SGD(\n",
        "    learning_rate=0.001,\n",
        "    momentum=0.2,\n",
        "    nesterov=False,\n",
        "    name=\"SGD\"\n",
        ")\n",
        "'''\n",
        "\n",
        "model.compile(\n",
        "    loss='categorical_crossentropy',\n",
        "    optimizer= opt,\n",
        "    metrics=['categorical_accuracy']\n",
        ")\n",
        "\n",
        "model.summary()"
      ]
    },
    {
      "cell_type": "code",
      "execution_count": 41,
      "metadata": {},
      "outputs": [],
      "source": [
        "# To prevent over fitting , stop the learning after 10 epochs and reduce learning rate after one steps\n",
        "fname = \"weights-best.hdf5\"\n",
        "#fname = \"weights-{epoch:02d}-{val_categorical_accuracy:.4f}.hdf5\"\n",
        "# To prevent over fitting , stop the learning after 10 epochs and reduce learning rate after one steps\n",
        "earlystop = EarlyStopping(\n",
        "    monitor='val_loss',\n",
        "    patience=5)\n",
        "learning_rate_reduction = ReduceLROnPlateau(\n",
        "    monitor='categorical_accuracy',\n",
        "    patience=2,\n",
        "    verbose=1,\n",
        "    factor=0.5,\n",
        "    min_lr=0.00001)\n",
        "model_checkpoint = ModelCheckpoint(\n",
        "    fname,\n",
        "    monitor='val_categorical_accuracy',\n",
        "    save_best_only=True,\n",
        "    save_weights_only=True,\n",
        "    verbose=1\n",
        ")\n",
        "\n",
        "# Saved callbacks parameters\n",
        "#callbacks = [earlystop, learning_rate_reduction,model_checkpoint]\n",
        "callbacks = [learning_rate_reduction,model_checkpoint]"
      ]
    },
    {
      "cell_type": "code",
      "execution_count": 42,
      "metadata": {},
      "outputs": [],
      "source": [
        "total_train = tr.shape[0]\n",
        "total_validate = vl.shape[0]\n",
        "\n",
        "total_testFoR = tsFoR.shape[0]\n",
        "total_testASV = tsASV.shape[0]\n",
        "total_testWave = tsWave.shape[0]\n",
        "batch_size = 32"
      ]
    },
    {
      "cell_type": "code",
      "execution_count": 43,
      "metadata": {},
      "outputs": [
        {
          "name": "stdout",
          "output_type": "stream",
          "text": [
            "Found 106144 validated image filenames belonging to 2 classes.\n"
          ]
        }
      ],
      "source": [
        "os.chdir(Path)\n",
        "trn = tr.sample(frac=1, random_state = 42)\n",
        "add = \"training\"\n",
        "\n",
        "train_generator = datagenCreate(trn, Path, IMAGE_SIZE, batch_size, True)"
      ]
    },
    {
      "cell_type": "code",
      "execution_count": 44,
      "metadata": {},
      "outputs": [
        {
          "name": "stdout",
          "output_type": "stream",
          "text": [
            "Found 22747 validated image filenames belonging to 2 classes.\n"
          ]
        }
      ],
      "source": [
        "val = vl.sample(frac=1, random_state = 42)\n",
        "add = \"validation\"\n",
        "\n",
        "validation_generator = datagenCreate(val, Path, IMAGE_SIZE, batch_size, False)"
      ]
    },
    {
      "cell_type": "code",
      "execution_count": 45,
      "metadata": {},
      "outputs": [
        {
          "name": "stderr",
          "output_type": "stream",
          "text": [
            "/home/lucas/miniconda3/envs/tf/lib/python3.11/site-packages/keras/src/engine/training.py:3000: UserWarning: You are saving your model as an HDF5 file via `model.save()`. This file format is considered legacy. We recommend using instead the native Keras format, e.g. `model.save('my_model.keras')`.\n",
            "  saving_api.save_model(\n"
          ]
        }
      ],
      "source": [
        "model.save('model-Mel.h5',save_format='h5')"
      ]
    },
    {
      "cell_type": "code",
      "execution_count": 46,
      "metadata": {},
      "outputs": [],
      "source": [
        "#PathImg = 'D:/Google Drive/EnsinoAprendizagem/UFC/Mestrado/Dissertação/Imagens'\n",
        "PathImg = '/mnt/d/Google Drive/EnsinoAprendizagem/UFC/Mestrado/Dissertação/Imagens'"
      ]
    },
    {
      "cell_type": "code",
      "execution_count": 28,
      "metadata": {},
      "outputs": [],
      "source": [
        "# If something go wrong, it will start from best weights\n",
        "'''\n",
        "model.load_weights(fname)\n",
        "model.compile(\n",
        "    loss='categorical_crossentropy',\n",
        "    optimizer= opt,\n",
        "    metrics=['categorical_accuracy']\n",
        ")\n",
        "'''"
      ]
    },
    {
      "cell_type": "code",
      "execution_count": 47,
      "metadata": {},
      "outputs": [
        {
          "name": "stdout",
          "output_type": "stream",
          "text": [
            "Epoch 1/20\n"
          ]
        },
        {
          "name": "stderr",
          "output_type": "stream",
          "text": [
            "2024-02-01 11:35:50.211350: E tensorflow/core/grappler/optimizers/meta_optimizer.cc:954] layout failed: INVALID_ARGUMENT: Size of values 0 does not match size of permutation 4 @ fanin shape insequential/dropout/dropout/SelectV2-2-TransposeNHWCToNCHW-LayoutOptimizer\n",
            "2024-02-01 11:35:51.420661: I tensorflow/compiler/xla/stream_executor/cuda/cuda_dnn.cc:432] Loaded cuDNN version 8800\n",
            "2024-02-01 11:35:52.511121: I tensorflow/tsl/platform/default/subprocess.cc:304] Start cannot spawn child process: No such file or directory\n",
            "2024-02-01 11:35:53.067936: I tensorflow/compiler/xla/stream_executor/cuda/cuda_blas.cc:606] TensorFloat-32 will be used for the matrix multiplication. This will only be logged once.\n",
            "2024-02-01 11:35:53.293088: I tensorflow/compiler/xla/service/service.cc:168] XLA service 0x7f6580047d40 initialized for platform CUDA (this does not guarantee that XLA will be used). Devices:\n",
            "2024-02-01 11:35:53.293238: I tensorflow/compiler/xla/service/service.cc:176]   StreamExecutor device (0): NVIDIA GeForce RTX 4070, Compute Capability 8.9\n",
            "2024-02-01 11:35:53.293270: I tensorflow/compiler/xla/service/service.cc:176]   StreamExecutor device (1): NVIDIA GeForce RTX 3060, Compute Capability 8.6\n",
            "2024-02-01 11:35:53.325159: I tensorflow/compiler/mlir/tensorflow/utils/dump_mlir_util.cc:255] disabling MLIR crash reproducer, set env var `MLIR_CRASH_REPRODUCER_DIRECTORY` to enable.\n",
            "2024-02-01 11:35:53.872738: I tensorflow/tsl/platform/default/subprocess.cc:304] Start cannot spawn child process: No such file or directory\n",
            "2024-02-01 11:35:53.981400: I ./tensorflow/compiler/jit/device_compiler.h:186] Compiled cluster using XLA!  This line is logged at most once for the lifetime of the process.\n"
          ]
        },
        {
          "name": "stdout",
          "output_type": "stream",
          "text": [
            "3317/3317 [==============================] - ETA: 0s - loss: 2.4863 - categorical_accuracy: 0.8398\n",
            "Epoch 1: val_categorical_accuracy improved from -inf to 0.60374, saving model to weights-best.hdf5\n",
            "3317/3317 [==============================] - 2638s 792ms/step - loss: 2.4863 - categorical_accuracy: 0.8398 - val_loss: 4.3709 - val_categorical_accuracy: 0.6037 - lr: 0.0010\n",
            "Epoch 2/20\n",
            "3317/3317 [==============================] - ETA: 0s - loss: 1.5314 - categorical_accuracy: 0.9202\n",
            "Epoch 2: val_categorical_accuracy improved from 0.60374 to 0.92249, saving model to weights-best.hdf5\n",
            "3317/3317 [==============================] - 2351s 709ms/step - loss: 1.5314 - categorical_accuracy: 0.9202 - val_loss: 1.3073 - val_categorical_accuracy: 0.9225 - lr: 0.0010\n",
            "Epoch 3/20\n",
            "3317/3317 [==============================] - ETA: 0s - loss: 1.2479 - categorical_accuracy: 0.9336\n",
            "Epoch 3: val_categorical_accuracy improved from 0.92249 to 0.95616, saving model to weights-best.hdf5\n",
            "3317/3317 [==============================] - 2269s 684ms/step - loss: 1.2479 - categorical_accuracy: 0.9336 - val_loss: 1.0677 - val_categorical_accuracy: 0.9562 - lr: 0.0010\n",
            "Epoch 4/20\n",
            "3317/3317 [==============================] - ETA: 0s - loss: 0.9742 - categorical_accuracy: 0.9412\n",
            "Epoch 4: val_categorical_accuracy did not improve from 0.95616\n",
            "3317/3317 [==============================] - 2287s 689ms/step - loss: 0.9742 - categorical_accuracy: 0.9412 - val_loss: 1.2189 - val_categorical_accuracy: 0.8298 - lr: 0.0010\n",
            "Epoch 5/20\n",
            "3317/3317 [==============================] - ETA: 0s - loss: 0.6910 - categorical_accuracy: 0.9484\n",
            "Epoch 5: val_categorical_accuracy did not improve from 0.95616\n",
            "3317/3317 [==============================] - 2318s 699ms/step - loss: 0.6910 - categorical_accuracy: 0.9484 - val_loss: 0.5548 - val_categorical_accuracy: 0.9394 - lr: 0.0010\n",
            "Epoch 6/20\n",
            "3317/3317 [==============================] - ETA: 0s - loss: 0.4945 - categorical_accuracy: 0.9529\n",
            "Epoch 6: val_categorical_accuracy did not improve from 0.95616\n",
            "3317/3317 [==============================] - 2345s 707ms/step - loss: 0.4945 - categorical_accuracy: 0.9529 - val_loss: 6.2123 - val_categorical_accuracy: 0.5506 - lr: 0.0010\n",
            "Epoch 7/20\n",
            "3317/3317 [==============================] - ETA: 0s - loss: 0.3587 - categorical_accuracy: 0.9583\n",
            "Epoch 7: val_categorical_accuracy did not improve from 0.95616\n",
            "3317/3317 [==============================] - 3240s 977ms/step - loss: 0.3587 - categorical_accuracy: 0.9583 - val_loss: 0.3899 - val_categorical_accuracy: 0.9357 - lr: 0.0010\n",
            "Epoch 8/20\n",
            "3317/3317 [==============================] - ETA: 0s - loss: 0.2880 - categorical_accuracy: 0.9606\n",
            "Epoch 8: val_categorical_accuracy did not improve from 0.95616\n",
            "3317/3317 [==============================] - 2538s 765ms/step - loss: 0.2880 - categorical_accuracy: 0.9606 - val_loss: 0.2874 - val_categorical_accuracy: 0.9528 - lr: 0.0010\n",
            "Epoch 9/20\n",
            "3317/3317 [==============================] - ETA: 0s - loss: 0.2327 - categorical_accuracy: 0.9631\n",
            "Epoch 9: val_categorical_accuracy improved from 0.95616 to 0.96202, saving model to weights-best.hdf5\n",
            "3317/3317 [==============================] - 2299s 693ms/step - loss: 0.2327 - categorical_accuracy: 0.9631 - val_loss: 0.2172 - val_categorical_accuracy: 0.9620 - lr: 0.0010\n",
            "Epoch 10/20\n",
            "3317/3317 [==============================] - ETA: 0s - loss: 0.2091 - categorical_accuracy: 0.9648\n",
            "Epoch 10: val_categorical_accuracy did not improve from 0.96202\n",
            "3317/3317 [==============================] - 2340s 705ms/step - loss: 0.2091 - categorical_accuracy: 0.9648 - val_loss: 0.3232 - val_categorical_accuracy: 0.9228 - lr: 0.0010\n",
            "Epoch 11/20\n",
            "3317/3317 [==============================] - ETA: 0s - loss: 0.1922 - categorical_accuracy: 0.9660\n",
            "Epoch 11: val_categorical_accuracy did not improve from 0.96202\n",
            "3317/3317 [==============================] - 2342s 706ms/step - loss: 0.1922 - categorical_accuracy: 0.9660 - val_loss: 0.3868 - val_categorical_accuracy: 0.8923 - lr: 0.0010\n",
            "Epoch 12/20\n",
            "3317/3317 [==============================] - ETA: 0s - loss: 0.1854 - categorical_accuracy: 0.9670\n",
            "Epoch 12: val_categorical_accuracy did not improve from 0.96202\n",
            "3317/3317 [==============================] - 2373s 715ms/step - loss: 0.1854 - categorical_accuracy: 0.9670 - val_loss: 0.3503 - val_categorical_accuracy: 0.9158 - lr: 0.0010\n",
            "Epoch 13/20\n",
            "3317/3317 [==============================] - ETA: 0s - loss: 0.1778 - categorical_accuracy: 0.9670\n",
            "Epoch 13: val_categorical_accuracy did not improve from 0.96202\n",
            "3317/3317 [==============================] - 2361s 712ms/step - loss: 0.1778 - categorical_accuracy: 0.9670 - val_loss: 0.3729 - val_categorical_accuracy: 0.9117 - lr: 0.0010\n",
            "Epoch 14/20\n",
            "3317/3317 [==============================] - ETA: 0s - loss: 0.1725 - categorical_accuracy: 0.9693\n",
            "Epoch 14: val_categorical_accuracy did not improve from 0.96202\n",
            "3317/3317 [==============================] - 2345s 707ms/step - loss: 0.1725 - categorical_accuracy: 0.9693 - val_loss: 1.0873 - val_categorical_accuracy: 0.7597 - lr: 0.0010\n",
            "Epoch 15/20\n",
            "3317/3317 [==============================] - ETA: 0s - loss: 0.1703 - categorical_accuracy: 0.9695\n",
            "Epoch 15: val_categorical_accuracy improved from 0.96202 to 0.96712, saving model to weights-best.hdf5\n",
            "3317/3317 [==============================] - 2334s 704ms/step - loss: 0.1703 - categorical_accuracy: 0.9695 - val_loss: 0.1750 - val_categorical_accuracy: 0.9671 - lr: 0.0010\n",
            "Epoch 16/20\n",
            "3317/3317 [==============================] - ETA: 0s - loss: 0.1646 - categorical_accuracy: 0.9695\n",
            "Epoch 16: val_categorical_accuracy did not improve from 0.96712\n",
            "3317/3317 [==============================] - 2264s 683ms/step - loss: 0.1646 - categorical_accuracy: 0.9695 - val_loss: 0.1970 - val_categorical_accuracy: 0.9564 - lr: 0.0010\n",
            "Epoch 17/20\n",
            "3317/3317 [==============================] - ETA: 0s - loss: 0.1712 - categorical_accuracy: 0.9701\n",
            "Epoch 17: val_categorical_accuracy did not improve from 0.96712\n",
            "3317/3317 [==============================] - 2318s 699ms/step - loss: 0.1712 - categorical_accuracy: 0.9701 - val_loss: 0.7392 - val_categorical_accuracy: 0.8298 - lr: 0.0010\n",
            "Epoch 18/20\n",
            "3317/3317 [==============================] - ETA: 0s - loss: 0.1653 - categorical_accuracy: 0.9705\n",
            "Epoch 18: val_categorical_accuracy did not improve from 0.96712\n",
            "3317/3317 [==============================] - 2324s 700ms/step - loss: 0.1653 - categorical_accuracy: 0.9705 - val_loss: 0.3082 - val_categorical_accuracy: 0.9217 - lr: 0.0010\n",
            "Epoch 19/20\n",
            "3317/3317 [==============================] - ETA: 0s - loss: 0.1629 - categorical_accuracy: 0.9716\n",
            "Epoch 19: val_categorical_accuracy did not improve from 0.96712\n",
            "3317/3317 [==============================] - 2363s 712ms/step - loss: 0.1629 - categorical_accuracy: 0.9716 - val_loss: 0.2967 - val_categorical_accuracy: 0.9295 - lr: 0.0010\n",
            "Epoch 20/20\n",
            "3317/3317 [==============================] - ETA: 0s - loss: 0.1627 - categorical_accuracy: 0.9712\n",
            "Epoch 20: val_categorical_accuracy did not improve from 0.96712\n",
            "3317/3317 [==============================] - 2277s 686ms/step - loss: 0.1627 - categorical_accuracy: 0.9712 - val_loss: 0.4512 - val_categorical_accuracy: 0.8861 - lr: 0.0010\n"
          ]
        }
      ],
      "source": [
        "#tf.tf_reset_default_graph()\n",
        "\n",
        "# Treinamento e validação da rede\n",
        "Epochs = 20 if FAST_RUN else 100\n",
        "history = model.fit(\n",
        "    train_generator,\n",
        "    epochs=Epochs,\n",
        "    validation_data=validation_generator,#train_generator,\n",
        "    validation_steps=total_validate//batch_size,#total_train//batch_size,\n",
        "    steps_per_epoch=total_train//batch_size,#100,\n",
        "    # [Originally steps per epoch should be total_train//batch_size but for now lets try with 50]\n",
        "    callbacks=callbacks\n",
        ")"
      ]
    },
    {
      "cell_type": "code",
      "execution_count": 48,
      "metadata": {},
      "outputs": [
        {
          "data": {
            "text/plain": [
              "<matplotlib.legend.Legend at 0x7f660c5de550>"
            ]
          },
          "execution_count": 48,
          "metadata": {},
          "output_type": "execute_result"
        },
        {
          "data": {
            "image/png": "[encoded data removed]",
            "text/plain": [
              "<Figure size 640x480 with 1 Axes>"
            ]
          },
          "metadata": {},
          "output_type": "display_data"
        },
        {
          "data": {
            "image/png": "[encoded data removed]",
            "text/plain": [
              "<Figure size 640x480 with 1 Axes>"
            ]
          },
          "metadata": {},
          "output_type": "display_data"
        },
        {
          "data": {
            "image/png": "[encoded data removed]",
            "text/plain": [
              "<Figure size 640x480 with 1 Axes>"
            ]
          },
          "metadata": {},
          "output_type": "display_data"
        }
      ],
      "source": [
        "# ----------------------------------- Teste da rede -----------------------------#\n",
        "\n",
        "plt.figure()\n",
        "plt.plot(history.history['categorical_accuracy'], label='cat_accuracy')\n",
        "plt.plot(history.history['val_categorical_accuracy'], label = 'val_cat_accuracy')\n",
        "plt.xlabel('Epoch')\n",
        "plt.ylabel('Accuracy')\n",
        "plt.ylim([0.5, 1])\n",
        "plt.legend(loc='lower right')\n",
        "\n",
        "plt.figure()\n",
        "plt.plot(history.history['loss'], label='loss')\n",
        "plt.plot(history.history['val_loss'], label='val_loss')\n",
        "plt.xlabel('Epoch')\n",
        "plt.ylabel('Loss')\n",
        "plt.legend(loc='lower right')\n",
        "\n",
        "plt.figure()\n",
        "plt.plot(history.history['lr'], label='learning_rate')\n",
        "plt.xlabel('Epochs')\n",
        "plt.ylabel('Learning Rate')\n",
        "plt.legend()"
      ]
    },
    {
      "cell_type": "markdown",
      "metadata": {},
      "source": [
        "Carregar o modelo com melhor resultado de acurácia"
      ]
    },
    {
      "cell_type": "code",
      "execution_count": 49,
      "metadata": {},
      "outputs": [],
      "source": [
        "model.load_weights(fname)\n",
        "model.compile(\n",
        "    loss='categorical_crossentropy',\n",
        "    optimizer= opt,\n",
        "    metrics=['categorical_accuracy']\n",
        ")"
      ]
    },
    {
      "cell_type": "code",
      "execution_count": 55,
      "metadata": {},
      "outputs": [
        {
          "name": "stdout",
          "output_type": "stream",
          "text": [
            "Found 2680 validated image filenames belonging to 2 classes.\n"
          ]
        }
      ],
      "source": [
        "os.chdir(Path)\n",
        "testFoR = tsFoR.sample(frac = 1, random_state = 42)\n",
        "\n",
        "testFoR_generator = datagenCreate(testFoR, Path, IMAGE_SIZE, batch_size, False)"
      ]
    },
    {
      "cell_type": "code",
      "execution_count": 56,
      "metadata": {},
      "outputs": [
        {
          "name": "stdout",
          "output_type": "stream",
          "text": [
            "Found 13023 validated image filenames belonging to 2 classes.\n"
          ]
        }
      ],
      "source": [
        "testWave = tsWave.sample(frac = 1, random_state = 42)\n",
        "\n",
        "testWave_generator = datagenCreate(testWave, Path, IMAGE_SIZE, batch_size, False)"
      ]
    },
    {
      "cell_type": "code",
      "execution_count": 57,
      "metadata": {},
      "outputs": [
        {
          "name": "stdout",
          "output_type": "stream",
          "text": [
            "Found 7042 validated image filenames belonging to 2 classes.\n"
          ]
        }
      ],
      "source": [
        "\n",
        "testASV = tsASV.sample(frac = 1, random_state = 42)\n",
        "\n",
        "testASV_generator = datagenCreate(testASV, Path, IMAGE_SIZE, batch_size, False)"
      ]
    },
    {
      "cell_type": "code",
      "execution_count": 58,
      "metadata": {},
      "outputs": [],
      "source": [
        "label_map = dict((v, k) for k, v in train_generator.class_indices.items())"
      ]
    },
    {
      "cell_type": "code",
      "execution_count": 59,
      "metadata": {},
      "outputs": [
        {
          "name": "stdout",
          "output_type": "stream",
          "text": [
            "84/84 [==============================] - 57s 673ms/step\n"
          ]
        }
      ],
      "source": [
        "predict = prediction(testFoR_generator,\n",
        "                     len(tsFoR[\"category\"]),\n",
        "                     batch_size,\n",
        "                     model)\n",
        "\n",
        "testFoR['Pred_category'] = np.argmax(predict, axis=1)\n",
        "testFoR['Pred_category'] = testFoR['Pred_category'].replace(label_map)"
      ]
    },
    {
      "cell_type": "code",
      "execution_count": 60,
      "metadata": {},
      "outputs": [
        {
          "name": "stdout",
          "output_type": "stream",
          "text": [
            "221/221 [==============================] - 146s 659ms/step\n"
          ]
        }
      ],
      "source": [
        "predict = prediction(testASV_generator,\n",
        "                     len(tsASV[\"category\"]),\n",
        "                     batch_size,\n",
        "                     model)\n",
        "\n",
        "testASV['Pred_category'] = np.argmax(predict, axis=1)\n",
        "testASV['Pred_category'] = testASV['Pred_category'].replace(label_map)"
      ]
    },
    {
      "cell_type": "code",
      "execution_count": 61,
      "metadata": {},
      "outputs": [
        {
          "name": "stdout",
          "output_type": "stream",
          "text": [
            "407/407 [==============================] - 328s 805ms/step\n"
          ]
        }
      ],
      "source": [
        "predict = prediction(testWave_generator,\n",
        "                     len(tsWave[\"category\"]),\n",
        "                     batch_size,\n",
        "                     model)\n",
        "\n",
        "testWave['Pred_category'] = np.argmax(predict, axis=1)\n",
        "testWave['Pred_category'] = testWave['Pred_category'].replace(label_map)"
      ]
    },
    {
      "cell_type": "code",
      "execution_count": 64,
      "metadata": {},
      "outputs": [
        {
          "data": {
            "image/png": "[encoded data removed]",
            "text/plain": [
              "<Figure size 640x480 with 2 Axes>"
            ]
          },
          "metadata": {},
          "output_type": "display_data"
        },
        {
          "name": "stdout",
          "output_type": "stream",
          "text": [
            "\n",
            "Training Dataset: Full  Test Basis: FoR\n",
            "Accuracy: 0.9850746268656716\n",
            "F1-score: 0.9851961509992597\n",
            "Precision: 0.9801178203240059\n",
            "Recall: 0.9903273809523809\n"
          ]
        }
      ],
      "source": [
        "plotConfusionMatrix(testFoR['Pred_category'], testFoR['category'])\n",
        "results(\"Full\", \"FoR\",testFoR[\"Pred_category\"], testFoR[\"category\"])"
      ]
    },
    {
      "cell_type": "code",
      "execution_count": 65,
      "metadata": {},
      "outputs": [
        {
          "data": {
            "image/png": "[encoded data removed]",
            "text/plain": [
              "<Figure size 640x480 with 2 Axes>"
            ]
          },
          "metadata": {},
          "output_type": "display_data"
        },
        {
          "name": "stdout",
          "output_type": "stream",
          "text": [
            "\n",
            "Training Dataset: Full  Test Basis: ASV\n",
            "Accuracy: 0.9216131780744107\n",
            "F1-score: 0.9268292682926829\n",
            "Precision: 0.8742185546386597\n",
            "Recall: 0.9861777150916784\n"
          ]
        }
      ],
      "source": [
        "plotConfusionMatrix(testASV['Pred_category'], testASV['category'])\n",
        "results(\"Full\", \"ASV\",testASV[\"Pred_category\"], testASV[\"category\"])"
      ]
    },
    {
      "cell_type": "code",
      "execution_count": 66,
      "metadata": {},
      "outputs": [
        {
          "data": {
            "image/png": "[encoded data removed]",
            "text/plain": [
              "<Figure size 640x480 with 2 Axes>"
            ]
          },
          "metadata": {},
          "output_type": "display_data"
        },
        {
          "name": "stdout",
          "output_type": "stream",
          "text": [
            "\n",
            "Training Dataset: Full  Test Basis: Wavefake\n",
            "Accuracy: 0.9886354910542886\n",
            "F1-score: 0.9888217522658611\n",
            "Precision: 0.9800868393472076\n",
            "Recall: 0.9977137631458619\n"
          ]
        }
      ],
      "source": [
        "plotConfusionMatrix(testWave['Pred_category'], testWave['category'])\n",
        "results(\"Full\", \"Wavefake\",testWave[\"Pred_category\"], testWave[\"category\"])"
      ]
    },
    {
      "cell_type": "code",
      "execution_count": 69,
      "metadata": {},
      "outputs": [
        {
          "data": {
            "image/png": "[encoded data removed]",
            "text/plain": [
              "<Figure size 640x480 with 2 Axes>"
            ]
          },
          "metadata": {},
          "output_type": "display_data"
        },
        {
          "name": "stdout",
          "output_type": "stream",
          "text": [
            "\n",
            "Training Dataset: Full  Test Basis: Full\n",
            "Accuracy: 0.9674653770059354\n",
            "F1-score: 0.9684918674955293\n",
            "Precision: 0.9449152542372882\n",
            "Recall: 0.9932751091703057\n"
          ]
        }
      ],
      "source": [
        "plotConfusionMatrix(pd.concat([testWave[\"Pred_category\"],\n",
        "                               testASV[\"Pred_category\"],\n",
        "                               testFoR[\"Pred_category\"]]),\n",
        "                    pd.concat([testWave[\"category\"],\n",
        "                               testASV[\"category\"],\n",
        "                               testFoR[\"category\"]]))\n",
        "results(\"Full\", \"Full\",\n",
        "        pd.concat([testWave[\"Pred_category\"], testASV[\"Pred_category\"], testFoR[\"Pred_category\"]]),\n",
        "        pd.concat([testWave[\"category\"], testASV[\"category\"], testFoR[\"category\"]]))"
      ]
    },
    {
      "cell_type": "code",
      "execution_count": 70,
      "metadata": {},
      "outputs": [
        {
          "name": "stdout",
          "output_type": "stream",
          "text": [
            "--- 50264.61330628395 seconds ---\n"
          ]
        }
      ],
      "source": [
        "# Tempo total de processamento\n",
        "print(\"--- %s seconds ---\" % (time.time() - start_time))"
      ]
    },
    {
      "cell_type": "code",
      "execution_count": 71,
      "metadata": {},
      "outputs": [
        {
          "name": "stdout",
          "output_type": "stream",
          "text": [
            "--- 13.962395554979642 hours ---\n"
          ]
        }
      ],
      "source": [
        "print(\"--- %s hours ---\" % ((time.time() - start_time)/3600))"
      ]
    }
  ],
  "metadata": {
    "accelerator": "GPU",
    "colab": {
      "provenance": []
    },
    "gpuClass": "standard",
    "kernelspec": {
      "display_name": "base",
      "language": "python",
      "name": "python3"
    },
    "language_info": {
      "codemirror_mode": {
        "name": "ipython",
        "version": 3
      },
      "file_extension": ".py",
      "mimetype": "text/x-python",
      "name": "python",
      "nbconvert_exporter": "python",
      "pygments_lexer": "ipython3",
      "version": "3.11.5"
    },
    "vscode": {
      "interpreter": {
        "hash": "6f534eedfbed9e626bbc17a8d55623103bdb651c8b6b10dfa792c8fc8a590f45"
      }
    }
  },
  "nbformat": 4,
  "nbformat_minor": 0
}
