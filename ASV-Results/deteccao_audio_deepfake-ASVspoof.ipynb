{
  "cells": [
    {
      "attachments": {},
      "cell_type": "markdown",
      "metadata": {
        "id": "GCMidAfodcik"
      },
      "source": [
        "# Detecção de DeepFake de áudio a partir de imagens"
      ]
    },
    {
      "cell_type": "markdown",
      "metadata": {},
      "source": [
        "Instala todas as dependências necessárias"
      ]
    },
    {
      "cell_type": "code",
      "execution_count": 1,
      "metadata": {},
      "outputs": [
        {
          "data": {
            "text/plain": [
              "'\\n%pip install tensorflow\\n%pip install numpy\\n%pip install pandas\\n%pip install pillow\\n%pip install matplotlib\\n%pip install scikit-learn\\n%pip install visualkeras\\n%pip install pydot\\n%pip install graphviz\\n'"
            ]
          },
          "execution_count": 1,
          "metadata": {},
          "output_type": "execute_result"
        }
      ],
      "source": [
        "'''\n",
        "%pip install tensorflow\n",
        "%pip install numpy\n",
        "%pip install pandas\n",
        "%pip install pillow\n",
        "%pip install matplotlib\n",
        "%pip install scikit-learn\n",
        "%pip install visualkeras\n",
        "%pip install pydot\n",
        "%pip install graphviz\n",
        "'''"
      ]
    },
    {
      "cell_type": "code",
      "execution_count": 2,
      "metadata": {},
      "outputs": [
        {
          "name": "stderr",
          "output_type": "stream",
          "text": [
            "2024-01-31 09:14:49.972116: I tensorflow/core/platform/cpu_feature_guard.cc:182] This TensorFlow binary is optimized to use available CPU instructions in performance-critical operations.\n",
            "To enable the following instructions: SSE4.1 SSE4.2 AVX AVX2 FMA, in other operations, rebuild TensorFlow with the appropriate compiler flags.\n"
          ]
        }
      ],
      "source": [
        "# importa as bibliotecas\n",
        "\n",
        "import tensorflow as tf\n",
        "import numpy as np\n",
        "import pandas as pd\n",
        "import os\n",
        "from PIL import Image\n",
        "from PIL import ImageFont\n",
        "import matplotlib.pyplot as plt\n",
        "import visualkeras as vk\n",
        "\n",
        "from keras.models import Sequential\n",
        "from keras.callbacks import EarlyStopping, ReduceLROnPlateau\n",
        "from keras.layers import Conv2D, MaxPooling2D, AveragePooling2D, Dropout, Flatten, Dense, Activation, BatchNormalization\n",
        "from keras.callbacks import ModelCheckpoint, EarlyStopping, TensorBoard\n",
        "from keras.losses import CategoricalCrossentropy\n",
        "from keras.losses import categorical_crossentropy\n",
        "from keras import regularizers\n",
        "from keras import initializers\n",
        "import time\n",
        "from keras.preprocessing.image import ImageDataGenerator  # , load_img\n",
        "from keras.utils import to_categorical, plot_model\n",
        "from keras.metrics import CategoricalAccuracy\n",
        "from sklearn.metrics import confusion_matrix\n",
        "from sklearn.metrics import ConfusionMatrixDisplay\n",
        "#from sklearn.metrics import plot_confusion_matrix\n",
        "from sklearn.model_selection import train_test_split\n",
        "from sklearn import metrics"
      ]
    },
    {
      "cell_type": "code",
      "execution_count": 3,
      "metadata": {},
      "outputs": [
        {
          "name": "stdout",
          "output_type": "stream",
          "text": [
            "Num GPUs Available:  2\n"
          ]
        },
        {
          "name": "stderr",
          "output_type": "stream",
          "text": [
            "2024-01-31 09:14:53.933836: I tensorflow/compiler/xla/stream_executor/cuda/cuda_gpu_executor.cc:981] could not open file to read NUMA node: /sys/bus/pci/devices/0000:05:00.0/numa_node\n",
            "Your kernel may have been built without NUMA support.\n",
            "2024-01-31 09:14:53.934782: I tensorflow/compiler/xla/stream_executor/cuda/cuda_gpu_executor.cc:981] could not open file to read NUMA node: /sys/bus/pci/devices/0000:81:00.0/numa_node\n",
            "Your kernel may have been built without NUMA support.\n",
            "2024-01-31 09:14:54.165337: I tensorflow/compiler/xla/stream_executor/cuda/cuda_gpu_executor.cc:981] could not open file to read NUMA node: /sys/bus/pci/devices/0000:05:00.0/numa_node\n",
            "Your kernel may have been built without NUMA support.\n",
            "2024-01-31 09:14:54.166176: I tensorflow/compiler/xla/stream_executor/cuda/cuda_gpu_executor.cc:981] could not open file to read NUMA node: /sys/bus/pci/devices/0000:81:00.0/numa_node\n",
            "Your kernel may have been built without NUMA support.\n",
            "2024-01-31 09:14:54.166946: I tensorflow/compiler/xla/stream_executor/cuda/cuda_gpu_executor.cc:981] could not open file to read NUMA node: /sys/bus/pci/devices/0000:05:00.0/numa_node\n",
            "Your kernel may have been built without NUMA support.\n",
            "2024-01-31 09:14:54.167707: I tensorflow/compiler/xla/stream_executor/cuda/cuda_gpu_executor.cc:981] could not open file to read NUMA node: /sys/bus/pci/devices/0000:81:00.0/numa_node\n",
            "Your kernel may have been built without NUMA support.\n"
          ]
        },
        {
          "data": {
            "text/plain": [
              "[PhysicalDevice(name='/physical_device:GPU:0', device_type='GPU'),\n",
              " PhysicalDevice(name='/physical_device:GPU:1', device_type='GPU')]"
            ]
          },
          "execution_count": 3,
          "metadata": {},
          "output_type": "execute_result"
        }
      ],
      "source": [
        "print(\"Num GPUs Available: \", len(tf.config.list_physical_devices('GPU')))\n",
        "\n",
        "tf.config.list_physical_devices('GPU')"
      ]
    },
    {
      "cell_type": "code",
      "execution_count": 4,
      "metadata": {},
      "outputs": [],
      "source": [
        "#TF_GPU_ALLOCATOR=cuda_malloc_async\n",
        "# Começa a contar o tempo de processamento\n",
        "start_time = time.time()\n",
        "\n",
        "# Setando o endereço dos arquivos\n",
        "\n",
        "os.getcwd()\n",
        "\n",
        "\n",
        "#Path = 'F:/Google Drive/EnsinoAprendizagem/UFC/Mestrado/Dissertação/Datasets/WaveFake/newData'\n",
        "Path = '/mnt/f/Google Drive/EnsinoAprendizagem/UFC/Mestrado/Dissertação/Datasets/ASVspoof/PA/PA'"
      ]
    },
    {
      "cell_type": "code",
      "execution_count": 5,
      "metadata": {},
      "outputs": [
        {
          "name": "stdout",
          "output_type": "stream",
          "text": [
            "não existe desktop.ini\n",
            "não existe desktop.ini\n"
          ]
        }
      ],
      "source": [
        "#----------------------------------- Criação do Banco de Dados a Partir das Imagens -----------------------------#\n",
        "os.chdir(Path)\n",
        "\n",
        "# Real\n",
        "real = os.listdir('realImgMEL')\n",
        "'''for filename in real:\n",
        "    if True:\n",
        "        try:\n",
        "            img = Image.open('realImgMEL/' + filename) # open the image file\n",
        "            img.verify() # verify that it is, in fact an image\n",
        "        except (IOError, SyntaxError) as e:\n",
        "            print('Bad file:', filename) # print out the names of corrupt files\n",
        "            real.remove(filename)\n",
        "'''\n",
        "try:\n",
        "    real.remove(\"desktop.ini\")\n",
        "except:\n",
        "    print(\"não existe desktop.ini\")\n",
        "\n",
        "# Fake\n",
        "fake = os.listdir('fakeImgMEL')\n",
        "'''for filename in fake:\n",
        "    if True:\n",
        "        try:\n",
        "            img = Image.open('fakeImgMEL/' + filename) # open the image file\n",
        "            img.verify() # verify that it is, in fact an image\n",
        "        except (IOError, SyntaxError) as e:\n",
        "            print('Bad file:', filename) # print out the names of corrupt files\n",
        "            fake.remove(filename)\n",
        "'''\n",
        "try:\n",
        "    real.remove(\"desktop.ini\")\n",
        "except:\n",
        "    print(\"não existe desktop.ini\")\n",
        "\n",
        "auxReal = []\n",
        "auxDir = []\n",
        "for i in real:\n",
        "    auxReal.append(0)\n",
        "    auxDir.append(\"realImgMEL/\" + i)\n",
        "real = pd.DataFrame({'filename': auxDir, 'category': auxReal})\n",
        "\n",
        "auxFake = []\n",
        "auxDir = []\n",
        "for i in fake:\n",
        "    auxFake.append(1)\n",
        "    auxDir.append(\"fakeImgMEL/\" + i)\n",
        "fake = pd.DataFrame({'filename': auxDir, 'category': auxFake})"
      ]
    },
    {
      "cell_type": "code",
      "execution_count": 6,
      "metadata": {},
      "outputs": [
        {
          "data": {
            "text/plain": [
              "<Axes: xlabel='category'>"
            ]
          },
          "execution_count": 6,
          "metadata": {},
          "output_type": "execute_result"
        },
        {
          "data": {
            "image/png": "[encoded data removed]",
            "text/plain": [
              "<Figure size 640x480 with 1 Axes>"
            ]
          },
          "metadata": {},
          "output_type": "display_data"
        }
      ],
      "source": [
        "TotalImgs = [real, fake]\n",
        "TotalImgs = pd.concat(TotalImgs)\n",
        "TotalImgs = TotalImgs.sample(frac=1, random_state=42)\n",
        "\n",
        "TotalImgs['category'].value_counts().plot.bar()"
      ]
    },
    {
      "cell_type": "code",
      "execution_count": 7,
      "metadata": {},
      "outputs": [
        {
          "data": {
            "text/plain": [
              "'\\ntr = [realTR, fakeTR]\\ntr = pd.concat(tr)\\nts = [realTS, fakeTS]\\nts = pd.concat(ts)\\nvl = [realVL, fakeVL]\\nvl = pd.concat(vl)\\n'"
            ]
          },
          "execution_count": 7,
          "metadata": {},
          "output_type": "execute_result"
        }
      ],
      "source": [
        "tr, ts = train_test_split(TotalImgs, test_size=0.3, random_state=42)\n",
        "ts, vl = train_test_split(ts, test_size= 0.5, random_state=42)\n",
        "\n",
        "'''\n",
        "tr = [realTR, fakeTR]\n",
        "tr = pd.concat(tr)\n",
        "ts = [realTS, fakeTS]\n",
        "ts = pd.concat(ts)\n",
        "vl = [realVL, fakeVL]\n",
        "vl = pd.concat(vl)\n",
        "'''"
      ]
    },
    {
      "cell_type": "code",
      "execution_count": 8,
      "metadata": {},
      "outputs": [
        {
          "data": {
            "text/plain": [
              "<Axes: xlabel='category'>"
            ]
          },
          "execution_count": 8,
          "metadata": {},
          "output_type": "execute_result"
        },
        {
          "data": {
            "image/png": "[encoded data removed]",
            "text/plain": [
              "<Figure size 640x480 with 1 Axes>"
            ]
          },
          "metadata": {},
          "output_type": "display_data"
        }
      ],
      "source": [
        "tr['category'].value_counts().plot.bar()"
      ]
    },
    {
      "cell_type": "code",
      "execution_count": 9,
      "metadata": {},
      "outputs": [
        {
          "data": {
            "text/plain": [
              "<Axes: xlabel='category'>"
            ]
          },
          "execution_count": 9,
          "metadata": {},
          "output_type": "execute_result"
        },
        {
          "data": {
            "image/png": "[encoded data removed]",
            "text/plain": [
              "<Figure size 640x480 with 1 Axes>"
            ]
          },
          "metadata": {},
          "output_type": "display_data"
        }
      ],
      "source": [
        "ts['category'].value_counts().plot.bar()"
      ]
    },
    {
      "cell_type": "code",
      "execution_count": 10,
      "metadata": {},
      "outputs": [
        {
          "data": {
            "text/plain": [
              "<Axes: xlabel='category'>"
            ]
          },
          "execution_count": 10,
          "metadata": {},
          "output_type": "execute_result"
        },
        {
          "data": {
            "image/png": "[encoded data removed]",
            "text/plain": [
              "<Figure size 640x480 with 1 Axes>"
            ]
          },
          "metadata": {},
          "output_type": "display_data"
        }
      ],
      "source": [
        "vl['category'].value_counts().plot.bar()"
      ]
    },
    {
      "cell_type": "code",
      "execution_count": 11,
      "metadata": {},
      "outputs": [],
      "source": [
        "# ----------------------------------- Modelagem da CNN -----------------------------#\n",
        "\n",
        "# Define Constants\n",
        "FAST_RUN = True\n",
        "IMAGE_WIDTH=256\n",
        "IMAGE_HEIGHT=256\n",
        "IMAGE_SIZE=(IMAGE_WIDTH, IMAGE_HEIGHT)\n",
        "IMAGE_CHANNELS=3"
      ]
    },
    {
      "cell_type": "code",
      "execution_count": 12,
      "metadata": {},
      "outputs": [
        {
          "name": "stderr",
          "output_type": "stream",
          "text": [
            "2024-01-31 09:28:24.489647: I tensorflow/compiler/xla/stream_executor/cuda/cuda_gpu_executor.cc:981] could not open file to read NUMA node: /sys/bus/pci/devices/0000:05:00.0/numa_node\n",
            "Your kernel may have been built without NUMA support.\n",
            "2024-01-31 09:28:24.490430: I tensorflow/compiler/xla/stream_executor/cuda/cuda_gpu_executor.cc:981] could not open file to read NUMA node: /sys/bus/pci/devices/0000:81:00.0/numa_node\n",
            "Your kernel may have been built without NUMA support.\n",
            "2024-01-31 09:28:24.491177: I tensorflow/compiler/xla/stream_executor/cuda/cuda_gpu_executor.cc:981] could not open file to read NUMA node: /sys/bus/pci/devices/0000:05:00.0/numa_node\n",
            "Your kernel may have been built without NUMA support.\n",
            "2024-01-31 09:28:24.492034: I tensorflow/compiler/xla/stream_executor/cuda/cuda_gpu_executor.cc:981] could not open file to read NUMA node: /sys/bus/pci/devices/0000:81:00.0/numa_node\n",
            "Your kernel may have been built without NUMA support.\n",
            "2024-01-31 09:28:24.492753: I tensorflow/compiler/xla/stream_executor/cuda/cuda_gpu_executor.cc:981] could not open file to read NUMA node: /sys/bus/pci/devices/0000:05:00.0/numa_node\n",
            "Your kernel may have been built without NUMA support.\n",
            "2024-01-31 09:28:24.493468: I tensorflow/compiler/xla/stream_executor/cuda/cuda_gpu_executor.cc:981] could not open file to read NUMA node: /sys/bus/pci/devices/0000:81:00.0/numa_node\n",
            "Your kernel may have been built without NUMA support.\n",
            "2024-01-31 09:28:24.555465: I tensorflow/compiler/xla/stream_executor/cuda/cuda_gpu_executor.cc:981] could not open file to read NUMA node: /sys/bus/pci/devices/0000:05:00.0/numa_node\n",
            "Your kernel may have been built without NUMA support.\n",
            "2024-01-31 09:28:24.556340: I tensorflow/compiler/xla/stream_executor/cuda/cuda_gpu_executor.cc:981] could not open file to read NUMA node: /sys/bus/pci/devices/0000:81:00.0/numa_node\n",
            "Your kernel may have been built without NUMA support.\n",
            "2024-01-31 09:28:24.557181: I tensorflow/compiler/xla/stream_executor/cuda/cuda_gpu_executor.cc:981] could not open file to read NUMA node: /sys/bus/pci/devices/0000:05:00.0/numa_node\n",
            "Your kernel may have been built without NUMA support.\n",
            "2024-01-31 09:28:24.557203: I tensorflow/core/common_runtime/gpu/gpu_device.cc:1726] Could not identify NUMA node of platform GPU id 0, defaulting to 0.  Your kernel may not have been built with NUMA support.\n",
            "2024-01-31 09:28:24.557991: I tensorflow/compiler/xla/stream_executor/cuda/cuda_gpu_executor.cc:981] could not open file to read NUMA node: /sys/bus/pci/devices/0000:81:00.0/numa_node\n",
            "Your kernel may have been built without NUMA support.\n",
            "2024-01-31 09:28:24.558011: I tensorflow/core/common_runtime/gpu/gpu_device.cc:1726] Could not identify NUMA node of platform GPU id 1, defaulting to 0.  Your kernel may not have been built with NUMA support.\n",
            "2024-01-31 09:28:24.558776: I tensorflow/compiler/xla/stream_executor/cuda/cuda_gpu_executor.cc:981] could not open file to read NUMA node: /sys/bus/pci/devices/0000:05:00.0/numa_node\n",
            "Your kernel may have been built without NUMA support.\n",
            "2024-01-31 09:28:24.558837: I tensorflow/core/common_runtime/gpu/gpu_device.cc:1639] Created device /job:localhost/replica:0/task:0/device:GPU:0 with 9571 MB memory:  -> device: 0, name: NVIDIA GeForce RTX 4070, pci bus id: 0000:05:00.0, compute capability: 8.9\n",
            "2024-01-31 09:28:24.560940: I tensorflow/compiler/xla/stream_executor/cuda/cuda_gpu_executor.cc:981] could not open file to read NUMA node: /sys/bus/pci/devices/0000:81:00.0/numa_node\n",
            "Your kernel may have been built without NUMA support.\n",
            "2024-01-31 09:28:24.560982: I tensorflow/core/common_runtime/gpu/gpu_device.cc:1639] Created device /job:localhost/replica:0/task:0/device:GPU:1 with 9725 MB memory:  -> device: 1, name: NVIDIA GeForce RTX 3060, pci bus id: 0000:81:00.0, compute capability: 8.6\n"
          ]
        }
      ],
      "source": [
        "# Gerando o modelo\n",
        "model = Sequential()\n",
        "\n",
        "model.add(Conv2D(8, (5, 5), activation='relu', input_shape=(\n",
        "    IMAGE_WIDTH, IMAGE_HEIGHT, IMAGE_CHANNELS)))\n",
        "model.add(BatchNormalization())\n",
        "model.add(AveragePooling2D(pool_size=(2, 2)))\n",
        "model.add(Dropout(0.25))\n",
        "\n",
        "model.add(Conv2D(8, (1, 1), activation='relu'))\n",
        "model.add(BatchNormalization())\n",
        "model.add(Conv2D(16, (3, 3), activation='relu'))\n",
        "model.add(BatchNormalization())\n",
        "model.add(AveragePooling2D(pool_size=(2, 2)))\n",
        "model.add(Dropout(0.25))\n",
        "\n",
        "model.add(Conv2D(16, (1, 1), activation='relu'))\n",
        "model.add(BatchNormalization())\n",
        "model.add(Conv2D(32, (3, 3), activation='relu'))\n",
        "model.add(BatchNormalization())\n",
        "model.add(AveragePooling2D(pool_size=(2, 2)))\n",
        "model.add(Dropout(0.25))\n",
        "\n",
        "model.add(Conv2D(32, (1, 1), activation='relu'))\n",
        "model.add(BatchNormalization())\n",
        "model.add(Conv2D(64, (3, 3), activation='relu'))\n",
        "model.add(BatchNormalization())\n",
        "model.add(AveragePooling2D(pool_size=(2, 2)))\n",
        "model.add(Dropout(0.25))\n",
        "\n",
        "model.add(Conv2D(64, (1, 1), activation='relu'))\n",
        "model.add(BatchNormalization())\n",
        "model.add(Conv2D(128, (3, 3), activation='relu'))\n",
        "model.add(BatchNormalization())\n",
        "model.add(AveragePooling2D(pool_size=(2, 2)))\n",
        "model.add(Dropout(0.25))\n",
        "\n",
        "'''\n",
        "model.add(Conv2D(16, (3, 3), activation='relu'))\n",
        "model.add(BatchNormalization())\n",
        "model.add(MaxPooling2D(pool_size=(2, 2)))\n",
        "model.add(Dropout(0.25))\n",
        "'''\n",
        "model.add(Flatten())\n",
        "model.add(Dropout(0.25))\n",
        "model.add(Dense(\n",
        "    5000,\n",
        "    kernel_regularizer=regularizers.L1L2(l1=1e-5, l2=1e-4),\n",
        "    bias_regularizer=regularizers.L2(1e-4),\n",
        "    activity_regularizer=regularizers.L2(1e-5),\n",
        "    activation='relu',\n",
        "    kernel_initializer=initializers.RandomNormal(stddev=0.01),\n",
        "    bias_initializer=initializers.Zeros()))\n",
        "model.add(BatchNormalization())\n",
        "model.add(Dropout(0.25))\n",
        "model.add(Dense(\n",
        "    2,\n",
        "    kernel_regularizer=regularizers.L1L2(l1=1e-5, l2=1e-4),\n",
        "    bias_regularizer=regularizers.L2(1e-4),\n",
        "    activity_regularizer=regularizers.L2(1e-5),\n",
        "    activation='softmax',\n",
        "    kernel_initializer=initializers.RandomNormal(stddev=0.01),\n",
        "    bias_initializer=initializers.Zeros()))"
      ]
    },
    {
      "cell_type": "code",
      "execution_count": 13,
      "metadata": {},
      "outputs": [
        {
          "name": "stdout",
          "output_type": "stream",
          "text": [
            "Model: \"sequential\"\n",
            "_________________________________________________________________\n",
            " Layer (type)                Output Shape              Param #   \n",
            "=================================================================\n",
            " conv2d (Conv2D)             (None, 252, 252, 8)       608       \n",
            "                                                                 \n",
            " batch_normalization (Batch  (None, 252, 252, 8)       32        \n",
            " Normalization)                                                  \n",
            "                                                                 \n",
            " average_pooling2d (Average  (None, 126, 126, 8)       0         \n",
            " Pooling2D)                                                      \n",
            "                                                                 \n",
            " dropout (Dropout)           (None, 126, 126, 8)       0         \n",
            "                                                                 \n",
            " conv2d_1 (Conv2D)           (None, 126, 126, 8)       72        \n",
            "                                                                 \n",
            " batch_normalization_1 (Bat  (None, 126, 126, 8)       32        \n",
            " chNormalization)                                                \n",
            "                                                                 \n",
            " conv2d_2 (Conv2D)           (None, 124, 124, 16)      1168      \n",
            "                                                                 \n",
            " batch_normalization_2 (Bat  (None, 124, 124, 16)      64        \n",
            " chNormalization)                                                \n",
            "                                                                 \n",
            " average_pooling2d_1 (Avera  (None, 62, 62, 16)        0         \n",
            " gePooling2D)                                                    \n",
            "                                                                 \n",
            " dropout_1 (Dropout)         (None, 62, 62, 16)        0         \n",
            "                                                                 \n",
            " conv2d_3 (Conv2D)           (None, 62, 62, 16)        272       \n",
            "                                                                 \n",
            " batch_normalization_3 (Bat  (None, 62, 62, 16)        64        \n",
            " chNormalization)                                                \n",
            "                                                                 \n",
            " conv2d_4 (Conv2D)           (None, 60, 60, 32)        4640      \n",
            "                                                                 \n",
            " batch_normalization_4 (Bat  (None, 60, 60, 32)        128       \n",
            " chNormalization)                                                \n",
            "                                                                 \n",
            " average_pooling2d_2 (Avera  (None, 30, 30, 32)        0         \n",
            " gePooling2D)                                                    \n",
            "                                                                 \n"
          ]
        },
        {
          "name": "stdout",
          "output_type": "stream",
          "text": [
            " dropout_2 (Dropout)         (None, 30, 30, 32)        0         \n",
            "                                                                 \n",
            " conv2d_5 (Conv2D)           (None, 30, 30, 32)        1056      \n",
            "                                                                 \n",
            " batch_normalization_5 (Bat  (None, 30, 30, 32)        128       \n",
            " chNormalization)                                                \n",
            "                                                                 \n",
            " conv2d_6 (Conv2D)           (None, 28, 28, 64)        18496     \n",
            "                                                                 \n",
            " batch_normalization_6 (Bat  (None, 28, 28, 64)        256       \n",
            " chNormalization)                                                \n",
            "                                                                 \n",
            " average_pooling2d_3 (Avera  (None, 14, 14, 64)        0         \n",
            " gePooling2D)                                                    \n",
            "                                                                 \n",
            " dropout_3 (Dropout)         (None, 14, 14, 64)        0         \n",
            "                                                                 \n",
            " conv2d_7 (Conv2D)           (None, 14, 14, 64)        4160      \n",
            "                                                                 \n",
            " batch_normalization_7 (Bat  (None, 14, 14, 64)        256       \n",
            " chNormalization)                                                \n",
            "                                                                 \n",
            " conv2d_8 (Conv2D)           (None, 12, 12, 128)       73856     \n",
            "                                                                 \n",
            " batch_normalization_8 (Bat  (None, 12, 12, 128)       512       \n",
            " chNormalization)                                                \n",
            "                                                                 \n",
            " average_pooling2d_4 (Avera  (None, 6, 6, 128)         0         \n",
            " gePooling2D)                                                    \n",
            "                                                                 \n",
            " dropout_4 (Dropout)         (None, 6, 6, 128)         0         \n",
            "                                                                 \n",
            " flatten (Flatten)           (None, 4608)              0         \n",
            "                                                                 \n",
            " dropout_5 (Dropout)         (None, 4608)              0         \n",
            "                                                                 \n",
            " dense (Dense)               (None, 5000)              23045000  \n",
            "                                                                 \n",
            " batch_normalization_9 (Bat  (None, 5000)              20000     \n",
            " chNormalization)                                                \n",
            "                                                                 \n",
            " dropout_6 (Dropout)         (None, 5000)              0         \n",
            "                                                                 \n",
            " dense_1 (Dense)             (None, 2)                 10002     \n",
            "                                                                 \n",
            "=================================================================\n",
            "Total params: 23180802 (88.43 MB)\n",
            "Trainable params: 23170066 (88.39 MB)\n",
            "Non-trainable params: 10736 (41.94 KB)\n",
            "_________________________________________________________________\n"
          ]
        }
      ],
      "source": [
        "opt = tf.keras.optimizers.Adam(\n",
        "    learning_rate=0.001,\n",
        "    beta_1=0.9,\n",
        "    beta_2=0.999,\n",
        "    epsilon=1e-07,\n",
        "    amsgrad=False,\n",
        "    name=\"adam\"\n",
        ")\n",
        "'''\n",
        "opt = tf.keras.optimizers.SGD(\n",
        "    learning_rate=0.001,\n",
        "    momentum=0.2,\n",
        "    nesterov=False,\n",
        "    name=\"SGD\"\n",
        ")\n",
        "'''\n",
        "\n",
        "model.compile(\n",
        "    loss='categorical_crossentropy',\n",
        "    optimizer= opt,\n",
        "    metrics=['categorical_accuracy']\n",
        ")\n",
        "\n",
        "model.summary()"
      ]
    },
    {
      "cell_type": "code",
      "execution_count": 14,
      "metadata": {},
      "outputs": [],
      "source": [
        "# To prevent over fitting , stop the learning after 10 epochs and reduce learning rate after one steps\n",
        "fname = \"weights-best.hdf5\"\n",
        "#fname = \"weights-{epoch:02d}-{val_categorical_accuracy:.4f}.hdf5\"\n",
        "# To prevent over fitting , stop the learning after 10 epochs and reduce learning rate after one steps\n",
        "earlystop = EarlyStopping(\n",
        "    monitor='val_loss',\n",
        "    patience=5)\n",
        "learning_rate_reduction = ReduceLROnPlateau(\n",
        "    monitor='categorical_accuracy',\n",
        "    patience=2,\n",
        "    verbose=1,\n",
        "    factor=0.5,\n",
        "    min_lr=0.00001)\n",
        "model_checkpoint = ModelCheckpoint(\n",
        "    fname,\n",
        "    monitor='val_categorical_accuracy',\n",
        "    save_best_only=True,\n",
        "    save_weights_only=True,\n",
        "    verbose=1\n",
        ")\n",
        "\n",
        "# Saved callbacks parameters\n",
        "#callbacks = [earlystop, learning_rate_reduction,model_checkpoint]\n",
        "callbacks = [learning_rate_reduction,model_checkpoint]"
      ]
    },
    {
      "cell_type": "code",
      "execution_count": 15,
      "metadata": {},
      "outputs": [],
      "source": [
        "# Replace output label data\n",
        "tr[\"category\"] = tr[\"category\"].replace({0: 'Real', 1: 'Fake'})\n",
        "ts[\"category\"] = ts[\"category\"].replace({0: 'Real', 1: 'Fake'})\n",
        "vl[\"category\"] = vl[\"category\"].replace({0: 'Real', 1: 'Fake'})"
      ]
    },
    {
      "cell_type": "code",
      "execution_count": 16,
      "metadata": {},
      "outputs": [],
      "source": [
        "total_train = tr.shape[0]\n",
        "total_validate = vl.shape[0]\n",
        "total_test = ts.shape[0]\n",
        "batch_size = 32"
      ]
    },
    {
      "cell_type": "code",
      "execution_count": 17,
      "metadata": {},
      "outputs": [
        {
          "name": "stdout",
          "output_type": "stream",
          "text": [
            "Found 129210 validated image filenames belonging to 2 classes.\n"
          ]
        }
      ],
      "source": [
        "os.chdir(Path)\n",
        "trn = tr.sample(frac=1, random_state = 42)\n",
        "add = \"training\"\n",
        "\n",
        "# generic image data generator\n",
        "train_datagen = ImageDataGenerator(\n",
        "    #rotation_range=90,\n",
        "    rescale=1./255,\n",
        "    #shear_range=0.1,\n",
        "    #zoom_range=0.2,\n",
        "    #horizontal_flip=True,\n",
        "    #vertical_flip=False,\n",
        "    #width_shift_range=0.2,\n",
        "    #height_shift_range=0.2\n",
        "    #validation_split=0.7\n",
        ")\n",
        "\n",
        "# Train image data generator\n",
        "# Create new train folder directory which should have both the images real and fake combined.\n",
        "train_generator = train_datagen.flow_from_dataframe(\n",
        "    trn,\n",
        "    Path,\n",
        "    x_col='filename',\n",
        "    y_col='category',\n",
        "    seed=30,\n",
        "    target_size=IMAGE_SIZE,\n",
        "    class_mode='categorical',\n",
        "    #subset='training',\n",
        "    batch_size=batch_size,\n",
        "    shuffle= True\n",
        ")"
      ]
    },
    {
      "cell_type": "code",
      "execution_count": 18,
      "metadata": {},
      "outputs": [
        {
          "name": "stdout",
          "output_type": "stream",
          "text": [
            "Found 27689 validated image filenames belonging to 2 classes.\n"
          ]
        }
      ],
      "source": [
        "'''\n",
        "validation_generator = train_datagen.flow_from_dataframe(\n",
        "    trn,\n",
        "    add,\n",
        "    x_col='filename',\n",
        "    y_col='category',\n",
        "    seed=30,\n",
        "    target_size=IMAGE_SIZE,\n",
        "    class_mode='categorical',\n",
        "    subset='validation',\n",
        "    batch_size=batch_size,\n",
        "    shuffle=True\n",
        ")\n",
        "'''\n",
        "#os.chdir(Path)\n",
        "val = vl.sample(frac=1, random_state = 42)\n",
        "add = \"validation\"\n",
        "# Validation image data generator\n",
        "validation_datagen = ImageDataGenerator(\n",
        "    rescale=1./255)\n",
        "validation_generator = validation_datagen.flow_from_dataframe(\n",
        "    val,\n",
        "    Path,\n",
        "    x_col='filename',\n",
        "    y_col='category',\n",
        "    seed=30,\n",
        "    target_size=IMAGE_SIZE,\n",
        "    class_mode='categorical',\n",
        "    batch_size=batch_size,\n",
        "    shuffle=True\n",
        ")"
      ]
    },
    {
      "cell_type": "code",
      "execution_count": 19,
      "metadata": {},
      "outputs": [
        {
          "name": "stderr",
          "output_type": "stream",
          "text": [
            "/home/lucas/miniconda3/envs/tf/lib/python3.11/site-packages/keras/src/engine/training.py:3000: UserWarning: You are saving your model as an HDF5 file via `model.save()`. This file format is considered legacy. We recommend using instead the native Keras format, e.g. `model.save('my_model.keras')`.\n",
            "  saving_api.save_model(\n"
          ]
        }
      ],
      "source": [
        "model.save('model-Mel.h5',save_format='h5')"
      ]
    },
    {
      "cell_type": "code",
      "execution_count": 20,
      "metadata": {},
      "outputs": [],
      "source": [
        "#PathImg = 'D:/Google Drive/EnsinoAprendizagem/UFC/Mestrado/Dissertação/Imagens'\n",
        "PathImg = '/mnt/d/Google Drive/EnsinoAprendizagem/UFC/Mestrado/Dissertação/Imagens'"
      ]
    },
    {
      "cell_type": "code",
      "execution_count": 21,
      "metadata": {},
      "outputs": [
        {
          "data": {
            "text/plain": [
              "'\\n#input_L\\nplot_model(\\n    model,\\n    to_file = PathImg + \\'/modelIn.png\\',\\n    show_shapes=True,\\n    show_dtype=True,\\n    show_layer_names=False,\\n    rankdir=\"LR\",\\n    expand_nested=True,\\n    dpi=90,\\n    layer_range=[\"batch_normalization\", \"conv2d_1\"],\\n    show_layer_activations=True\\n    )'"
            ]
          },
          "execution_count": 21,
          "metadata": {},
          "output_type": "execute_result"
        }
      ],
      "source": [
        "'''\n",
        "#input_L\n",
        "plot_model(\n",
        "    model,\n",
        "    to_file = PathImg + '/modelIn.png',\n",
        "    show_shapes=True,\n",
        "    show_dtype=True,\n",
        "    show_layer_names=False,\n",
        "    rankdir=\"LR\",\n",
        "    expand_nested=True,\n",
        "    dpi=90,\n",
        "    layer_range=[\"batch_normalization\", \"conv2d_1\"],\n",
        "    show_layer_activations=True\n",
        "    )'''"
      ]
    },
    {
      "cell_type": "code",
      "execution_count": 22,
      "metadata": {},
      "outputs": [
        {
          "data": {
            "text/plain": [
              "'\\n# conv_L1\\nplot_model(\\n    model,\\n    to_file = PathImg + \\'/modelC1.png\\',\\n    show_shapes=True,\\n    show_dtype=True,\\n    show_layer_names=False,\\n    rankdir=\"LR\",\\n    expand_nested=True,\\n    dpi=90,\\n    layer_range=[\"batch_normalization_1\", \"conv2d_3\"],\\n    show_layer_activations=True\\n    )'"
            ]
          },
          "execution_count": 22,
          "metadata": {},
          "output_type": "execute_result"
        }
      ],
      "source": [
        "'''\n",
        "# conv_L1\n",
        "plot_model(\n",
        "    model,\n",
        "    to_file = PathImg + '/modelC1.png',\n",
        "    show_shapes=True,\n",
        "    show_dtype=True,\n",
        "    show_layer_names=False,\n",
        "    rankdir=\"LR\",\n",
        "    expand_nested=True,\n",
        "    dpi=90,\n",
        "    layer_range=[\"batch_normalization_1\", \"conv2d_3\"],\n",
        "    show_layer_activations=True\n",
        "    )'''\n"
      ]
    },
    {
      "cell_type": "code",
      "execution_count": 23,
      "metadata": {},
      "outputs": [
        {
          "data": {
            "text/plain": [
              "'\\n# conv_L2\\nplot_model(\\n    model,\\n    to_file = PathImg + \\'/modelC2.png\\',\\n    show_shapes=True,\\n    show_dtype=True,\\n    show_layer_names=False,\\n    rankdir=\"LR\",\\n    expand_nested=True,\\n    dpi=90,\\n    layer_range=[\"batch_normalization_3\", \"conv2d_5\"],\\n    show_layer_activations=True\\n    )'"
            ]
          },
          "execution_count": 23,
          "metadata": {},
          "output_type": "execute_result"
        }
      ],
      "source": [
        "'''\n",
        "# conv_L2\n",
        "plot_model(\n",
        "    model,\n",
        "    to_file = PathImg + '/modelC2.png',\n",
        "    show_shapes=True,\n",
        "    show_dtype=True,\n",
        "    show_layer_names=False,\n",
        "    rankdir=\"LR\",\n",
        "    expand_nested=True,\n",
        "    dpi=90,\n",
        "    layer_range=[\"batch_normalization_3\", \"conv2d_5\"],\n",
        "    show_layer_activations=True\n",
        "    )'''"
      ]
    },
    {
      "cell_type": "code",
      "execution_count": 24,
      "metadata": {},
      "outputs": [
        {
          "data": {
            "text/plain": [
              "'\\n# conv_L3\\nplot_model(\\n    model,\\n    to_file = PathImg + \\'/modelC3.png\\',\\n    show_shapes=True,\\n    show_dtype=True,\\n    show_layer_names=False,\\n    rankdir=\"LR\",\\n    expand_nested=True,\\n    dpi=90,\\n    layer_range=[\"batch_normalization_5\", \"conv2d_7\"],\\n    show_layer_activations=True\\n    )'"
            ]
          },
          "execution_count": 24,
          "metadata": {},
          "output_type": "execute_result"
        }
      ],
      "source": [
        "'''\n",
        "# conv_L3\n",
        "plot_model(\n",
        "    model,\n",
        "    to_file = PathImg + '/modelC3.png',\n",
        "    show_shapes=True,\n",
        "    show_dtype=True,\n",
        "    show_layer_names=False,\n",
        "    rankdir=\"LR\",\n",
        "    expand_nested=True,\n",
        "    dpi=90,\n",
        "    layer_range=[\"batch_normalization_5\", \"conv2d_7\"],\n",
        "    show_layer_activations=True\n",
        "    )'''"
      ]
    },
    {
      "cell_type": "code",
      "execution_count": 25,
      "metadata": {},
      "outputs": [
        {
          "data": {
            "text/plain": [
              "'\\n# conv_L4\\nplot_model(\\n    model,\\n    to_file = PathImg + \\'/modelC4.png\\',\\n    show_shapes=True,\\n    show_dtype=True,\\n    show_layer_names=False,\\n    rankdir=\"LR\",\\n    expand_nested=True,\\n    dpi=90,\\n    layer_range=[\"batch_normalization_7\", \"flatten\"],\\n    show_layer_activations=True\\n    )'"
            ]
          },
          "execution_count": 25,
          "metadata": {},
          "output_type": "execute_result"
        }
      ],
      "source": [
        "'''\n",
        "# conv_L4\n",
        "plot_model(\n",
        "    model,\n",
        "    to_file = PathImg + '/modelC4.png',\n",
        "    show_shapes=True,\n",
        "    show_dtype=True,\n",
        "    show_layer_names=False,\n",
        "    rankdir=\"LR\",\n",
        "    expand_nested=True,\n",
        "    dpi=90,\n",
        "    layer_range=[\"batch_normalization_7\", \"flatten\"],\n",
        "    show_layer_activations=True\n",
        "    )'''"
      ]
    },
    {
      "cell_type": "code",
      "execution_count": 26,
      "metadata": {},
      "outputs": [
        {
          "data": {
            "text/plain": [
              "'\\n# output_L\\nplot_model(\\n    model,\\n    to_file = PathImg + \\'/modelOut.png\\',\\n    show_shapes=True,\\n    show_dtype=True,\\n    show_layer_names=True,\\n    rankdir=\"LR\",\\n    expand_nested=True,\\n    dpi=90,\\n    layer_range = None,#[\"dropout_5\", \"dense_1\"], # Not working well\\n    show_layer_activations=True\\n    )'"
            ]
          },
          "execution_count": 26,
          "metadata": {},
          "output_type": "execute_result"
        }
      ],
      "source": [
        "'''\n",
        "# output_L\n",
        "plot_model(\n",
        "    model,\n",
        "    to_file = PathImg + '/modelOut.png',\n",
        "    show_shapes=True,\n",
        "    show_dtype=True,\n",
        "    show_layer_names=True,\n",
        "    rankdir=\"LR\",\n",
        "    expand_nested=True,\n",
        "    dpi=90,\n",
        "    layer_range = None,#[\"dropout_5\", \"dense_1\"], # Not working well\n",
        "    show_layer_activations=True\n",
        "    )'''"
      ]
    },
    {
      "cell_type": "code",
      "execution_count": 27,
      "metadata": {},
      "outputs": [
        {
          "data": {
            "text/plain": [
              "'#%pip install visualkeras\\nimport visualkeras as vk\\n#font = ImageFont.truetype(\"times.ttf\", 22)\\nvk.layered_view(\\n    model,\\n    legend=True,\\n    one_dim_orientation=\\'y\\',\\n    max_xy=800,\\n    #font=font,\\n    draw_volume=True,\\n    scale_xy=4\\n    )'"
            ]
          },
          "execution_count": 27,
          "metadata": {},
          "output_type": "execute_result"
        }
      ],
      "source": [
        "'''#%pip install visualkeras\n",
        "import visualkeras as vk\n",
        "#font = ImageFont.truetype(\"times.ttf\", 22)\n",
        "vk.layered_view(\n",
        "    model,\n",
        "    legend=True,\n",
        "    one_dim_orientation='y',\n",
        "    max_xy=800,\n",
        "    #font=font,\n",
        "    draw_volume=True,\n",
        "    scale_xy=4\n",
        "    )'''"
      ]
    },
    {
      "cell_type": "code",
      "execution_count": 28,
      "metadata": {},
      "outputs": [],
      "source": [
        "model.load_weights(fname)\n",
        "model.compile(\n",
        "    loss='categorical_crossentropy',\n",
        "    optimizer= opt,\n",
        "    metrics=['categorical_accuracy']\n",
        ")"
      ]
    },
    {
      "cell_type": "code",
      "execution_count": 29,
      "metadata": {},
      "outputs": [
        {
          "name": "stdout",
          "output_type": "stream",
          "text": [
            "Epoch 1/20\n"
          ]
        },
        {
          "name": "stderr",
          "output_type": "stream",
          "text": [
            "2024-01-31 09:47:54.818074: E tensorflow/core/grappler/optimizers/meta_optimizer.cc:954] layout failed: INVALID_ARGUMENT: Size of values 0 does not match size of permutation 4 @ fanin shape insequential/dropout/dropout/SelectV2-2-TransposeNHWCToNCHW-LayoutOptimizer\n",
            "2024-01-31 09:47:59.842444: I tensorflow/compiler/xla/stream_executor/cuda/cuda_dnn.cc:432] Loaded cuDNN version 8800\n",
            "2024-01-31 09:48:00.670642: I tensorflow/tsl/platform/default/subprocess.cc:304] Start cannot spawn child process: No such file or directory\n",
            "2024-01-31 09:48:01.259523: I tensorflow/compiler/xla/stream_executor/cuda/cuda_blas.cc:606] TensorFloat-32 will be used for the matrix multiplication. This will only be logged once.\n",
            "2024-01-31 09:48:01.512504: I tensorflow/compiler/xla/service/service.cc:168] XLA service 0x7f26ec023a40 initialized for platform CUDA (this does not guarantee that XLA will be used). Devices:\n",
            "2024-01-31 09:48:01.512588: I tensorflow/compiler/xla/service/service.cc:176]   StreamExecutor device (0): NVIDIA GeForce RTX 4070, Compute Capability 8.9\n",
            "2024-01-31 09:48:01.512599: I tensorflow/compiler/xla/service/service.cc:176]   StreamExecutor device (1): NVIDIA GeForce RTX 3060, Compute Capability 8.6\n",
            "2024-01-31 09:48:01.566305: I tensorflow/compiler/mlir/tensorflow/utils/dump_mlir_util.cc:255] disabling MLIR crash reproducer, set env var `MLIR_CRASH_REPRODUCER_DIRECTORY` to enable.\n",
            "2024-01-31 09:48:02.214194: I tensorflow/tsl/platform/default/subprocess.cc:304] Start cannot spawn child process: No such file or directory\n",
            "2024-01-31 09:48:02.336542: I ./tensorflow/compiler/jit/device_compiler.h:186] Compiled cluster using XLA!  This line is logged at most once for the lifetime of the process.\n"
          ]
        },
        {
          "name": "stdout",
          "output_type": "stream",
          "text": [
            "4036/4037 [============================>.] - ETA: 2s - loss: 0.2023 - categorical_accuracy: 0.9446\n",
            "Epoch 1: val_categorical_accuracy improved from -inf to 0.91503, saving model to weights-best.hdf5\n",
            "4037/4037 [==============================] - 12079s 3s/step - loss: 0.2023 - categorical_accuracy: 0.9446 - val_loss: 0.2657 - val_categorical_accuracy: 0.9150 - lr: 0.0010\n",
            "Epoch 2/20\n",
            "4036/4037 [============================>.] - ETA: 0s - loss: 0.1929 - categorical_accuracy: 0.9459\n",
            "Epoch 2: val_categorical_accuracy did not improve from 0.91503\n",
            "4037/4037 [==============================] - 4923s 1s/step - loss: 0.1929 - categorical_accuracy: 0.9460 - val_loss: 0.3514 - val_categorical_accuracy: 0.9084 - lr: 0.0010\n",
            "Epoch 3/20\n",
            "4036/4037 [============================>.] - ETA: 1s - loss: 0.1950 - categorical_accuracy: 0.9463\n",
            "Epoch 3: val_categorical_accuracy improved from 0.91503 to 0.93826, saving model to weights-best.hdf5\n",
            "4037/4037 [==============================] - 5882s 1s/step - loss: 0.1950 - categorical_accuracy: 0.9463 - val_loss: 0.2041 - val_categorical_accuracy: 0.9383 - lr: 0.0010\n",
            "Epoch 4/20\n",
            "4037/4037 [==============================] - ETA: 0s - loss: 0.1934 - categorical_accuracy: 0.9458\n",
            "Epoch 4: val_categorical_accuracy improved from 0.93826 to 0.95213, saving model to weights-best.hdf5\n",
            "4037/4037 [==============================] - 3162s 783ms/step - loss: 0.1934 - categorical_accuracy: 0.9458 - val_loss: 0.1763 - val_categorical_accuracy: 0.9521 - lr: 0.0010\n",
            "Epoch 5/20\n",
            "4037/4037 [==============================] - ETA: 0s - loss: 0.1942 - categorical_accuracy: 0.9476\n",
            "Epoch 5: val_categorical_accuracy did not improve from 0.95213\n",
            "4037/4037 [==============================] - 2517s 622ms/step - loss: 0.1942 - categorical_accuracy: 0.9476 - val_loss: 0.3575 - val_categorical_accuracy: 0.8772 - lr: 0.0010\n",
            "Epoch 6/20\n",
            "4037/4037 [==============================] - ETA: 0s - loss: 0.1950 - categorical_accuracy: 0.9479\n",
            "Epoch 6: val_categorical_accuracy did not improve from 0.95213\n",
            "4037/4037 [==============================] - 2588s 641ms/step - loss: 0.1950 - categorical_accuracy: 0.9479 - val_loss: 0.2584 - val_categorical_accuracy: 0.9198 - lr: 0.0010\n",
            "Epoch 7/20\n",
            "4037/4037 [==============================] - ETA: 0s - loss: 0.1878 - categorical_accuracy: 0.9482\n",
            "Epoch 7: val_categorical_accuracy did not improve from 0.95213\n",
            "4037/4037 [==============================] - 2589s 641ms/step - loss: 0.1878 - categorical_accuracy: 0.9482 - val_loss: 0.2098 - val_categorical_accuracy: 0.9382 - lr: 0.0010\n",
            "Epoch 8/20\n",
            "4036/4037 [============================>.] - ETA: 0s - loss: 0.1907 - categorical_accuracy: 0.9485\n",
            "Epoch 8: val_categorical_accuracy did not improve from 0.95213\n",
            "4037/4037 [==============================] - 2671s 662ms/step - loss: 0.1907 - categorical_accuracy: 0.9484 - val_loss: 0.2005 - val_categorical_accuracy: 0.9477 - lr: 0.0010\n",
            "Epoch 9/20\n",
            "4037/4037 [==============================] - ETA: 0s - loss: 0.1867 - categorical_accuracy: 0.9496\n",
            "Epoch 9: val_categorical_accuracy did not improve from 0.95213\n",
            "4037/4037 [==============================] - 2566s 636ms/step - loss: 0.1867 - categorical_accuracy: 0.9496 - val_loss: 0.2113 - val_categorical_accuracy: 0.9454 - lr: 0.0010\n",
            "Epoch 10/20\n",
            "4036/4037 [============================>.] - ETA: 0s - loss: 0.1903 - categorical_accuracy: 0.9495\n",
            "Epoch 10: val_categorical_accuracy did not improve from 0.95213\n",
            "4037/4037 [==============================] - 2535s 628ms/step - loss: 0.1903 - categorical_accuracy: 0.9495 - val_loss: 0.2893 - val_categorical_accuracy: 0.9102 - lr: 0.0010\n",
            "Epoch 11/20\n",
            "4037/4037 [==============================] - ETA: 0s - loss: 0.1838 - categorical_accuracy: 0.9504\n",
            "Epoch 11: val_categorical_accuracy did not improve from 0.95213\n",
            "4037/4037 [==============================] - 2545s 630ms/step - loss: 0.1838 - categorical_accuracy: 0.9504 - val_loss: 0.1938 - val_categorical_accuracy: 0.9504 - lr: 0.0010\n",
            "Epoch 12/20\n",
            "4036/4037 [============================>.] - ETA: 0s - loss: 0.1863 - categorical_accuracy: 0.9498\n",
            "Epoch 12: val_categorical_accuracy did not improve from 0.95213\n",
            "4037/4037 [==============================] - 2482s 615ms/step - loss: 0.1863 - categorical_accuracy: 0.9498 - val_loss: 0.1849 - val_categorical_accuracy: 0.9501 - lr: 0.0010\n",
            "Epoch 13/20\n",
            "4036/4037 [============================>.] - ETA: 0s - loss: 0.1854 - categorical_accuracy: 0.9512\n",
            "Epoch 13: val_categorical_accuracy did not improve from 0.95213\n",
            "4037/4037 [==============================] - 2505s 620ms/step - loss: 0.1854 - categorical_accuracy: 0.9512 - val_loss: 0.2318 - val_categorical_accuracy: 0.9363 - lr: 0.0010\n",
            "Epoch 14/20\n",
            "4037/4037 [==============================] - ETA: 0s - loss: 0.1800 - categorical_accuracy: 0.9520\n",
            "Epoch 14: val_categorical_accuracy improved from 0.95213 to 0.95672, saving model to weights-best.hdf5\n",
            "4037/4037 [==============================] - 2529s 626ms/step - loss: 0.1800 - categorical_accuracy: 0.9520 - val_loss: 0.1993 - val_categorical_accuracy: 0.9567 - lr: 0.0010\n",
            "Epoch 15/20\n",
            "4037/4037 [==============================] - ETA: 0s - loss: 0.1827 - categorical_accuracy: 0.9521\n",
            "Epoch 15: val_categorical_accuracy did not improve from 0.95672\n",
            "4037/4037 [==============================] - 2564s 635ms/step - loss: 0.1827 - categorical_accuracy: 0.9521 - val_loss: 0.1731 - val_categorical_accuracy: 0.9556 - lr: 0.0010\n",
            "Epoch 16/20\n",
            "4036/4037 [============================>.] - ETA: 0s - loss: 0.1802 - categorical_accuracy: 0.9527\n",
            "Epoch 16: val_categorical_accuracy did not improve from 0.95672\n",
            "4037/4037 [==============================] - 2625s 650ms/step - loss: 0.1802 - categorical_accuracy: 0.9527 - val_loss: 0.1682 - val_categorical_accuracy: 0.9561 - lr: 0.0010\n",
            "Epoch 17/20\n",
            "4037/4037 [==============================] - ETA: 0s - loss: 0.1851 - categorical_accuracy: 0.9519\n",
            "Epoch 17: val_categorical_accuracy improved from 0.95672 to 0.96062, saving model to weights-best.hdf5\n",
            "4037/4037 [==============================] - 2369s 587ms/step - loss: 0.1851 - categorical_accuracy: 0.9519 - val_loss: 0.1596 - val_categorical_accuracy: 0.9606 - lr: 0.0010\n",
            "Epoch 18/20\n",
            "4037/4037 [==============================] - ETA: 0s - loss: 0.1805 - categorical_accuracy: 0.9524\n",
            "Epoch 18: ReduceLROnPlateau reducing learning rate to 0.0005000000237487257.\n",
            "\n",
            "Epoch 18: val_categorical_accuracy did not improve from 0.96062\n",
            "4037/4037 [==============================] - 2310s 572ms/step - loss: 0.1805 - categorical_accuracy: 0.9524 - val_loss: 0.2148 - val_categorical_accuracy: 0.9381 - lr: 0.0010\n",
            "Epoch 19/20\n",
            "4037/4037 [==============================] - ETA: 0s - loss: 0.1412 - categorical_accuracy: 0.9571\n",
            "Epoch 19: val_categorical_accuracy improved from 0.96062 to 0.96199, saving model to weights-best.hdf5\n",
            "4037/4037 [==============================] - 3084s 764ms/step - loss: 0.1412 - categorical_accuracy: 0.9571 - val_loss: 0.1299 - val_categorical_accuracy: 0.9620 - lr: 5.0000e-04\n",
            "Epoch 20/20\n",
            "4037/4037 [==============================] - ETA: 0s - loss: 0.1379 - categorical_accuracy: 0.9579\n",
            "Epoch 20: val_categorical_accuracy did not improve from 0.96199\n",
            "4037/4037 [==============================] - 2314s 573ms/step - loss: 0.1379 - categorical_accuracy: 0.9579 - val_loss: 0.1304 - val_categorical_accuracy: 0.9611 - lr: 5.0000e-04\n"
          ]
        }
      ],
      "source": [
        "#tf.tf_reset_default_graph()\n",
        "\n",
        "# Treinamento e validação da rede\n",
        "Epochs = 20 if FAST_RUN else 100\n",
        "history = model.fit(\n",
        "    #tf.constant(trn['filename']),\n",
        "    #tf.constant(trn['category']),\n",
        "    train_generator,\n",
        "    epochs=Epochs,\n",
        "    #shuffle=True,\n",
        "    #batch_size=None,\n",
        "    #validation_split=0.2,\n",
        "    validation_data=validation_generator,#train_generator,\n",
        "    validation_steps=total_validate//batch_size,#total_train//batch_size,\n",
        "    steps_per_epoch=total_train//batch_size,#100,\n",
        "    # [Originally steps per epoch should be total_train//batch_size but for now lets try with 50]\n",
        "    callbacks=callbacks\n",
        ")"
      ]
    },
    {
      "cell_type": "code",
      "execution_count": 30,
      "metadata": {},
      "outputs": [
        {
          "data": {
            "text/plain": [
              "<matplotlib.legend.Legend at 0x7f26e816be10>"
            ]
          },
          "execution_count": 30,
          "metadata": {},
          "output_type": "execute_result"
        },
        {
          "data": {
            "image/png": "[encoded data removed]",
            "text/plain": [
              "<Figure size 640x480 with 1 Axes>"
            ]
          },
          "metadata": {},
          "output_type": "display_data"
        },
        {
          "data": {
            "image/png": "[encoded data removed]",
            "text/plain": [
              "<Figure size 640x480 with 1 Axes>"
            ]
          },
          "metadata": {},
          "output_type": "display_data"
        },
        {
          "data": {
            "image/png": "[encoded data removed]",
            "text/plain": [
              "<Figure size 640x480 with 1 Axes>"
            ]
          },
          "metadata": {},
          "output_type": "display_data"
        }
      ],
      "source": [
        "# ----------------------------------- Teste da rede -----------------------------#\n",
        "\n",
        "plt.figure()\n",
        "plt.plot(history.history['categorical_accuracy'], label='cat_accuracy')\n",
        "plt.plot(history.history['val_categorical_accuracy'], label = 'val_cat_accuracy')\n",
        "plt.xlabel('Epoch')\n",
        "plt.ylabel('Accuracy')\n",
        "plt.ylim([0.5, 1])\n",
        "plt.legend(loc='lower right')\n",
        "\n",
        "plt.figure()\n",
        "plt.plot(history.history['loss'], label='loss')\n",
        "plt.plot(history.history['val_loss'], label='val_loss')\n",
        "plt.xlabel('Epoch')\n",
        "plt.ylabel('Loss')\n",
        "plt.legend(loc='lower right')\n",
        "\n",
        "plt.figure()\n",
        "plt.plot(history.history['lr'], label='learning_rate')\n",
        "plt.xlabel('Epochs')\n",
        "plt.ylabel('Learning Rate')\n",
        "plt.legend()"
      ]
    },
    {
      "cell_type": "markdown",
      "metadata": {},
      "source": [
        "Carregar o modelo com melhor resultado de acurácia"
      ]
    },
    {
      "cell_type": "code",
      "execution_count": 31,
      "metadata": {},
      "outputs": [],
      "source": [
        "model.load_weights(fname)\n",
        "model.compile(\n",
        "    loss='categorical_crossentropy',\n",
        "    optimizer= opt,\n",
        "    metrics=['categorical_accuracy']\n",
        ")"
      ]
    },
    {
      "cell_type": "code",
      "execution_count": 32,
      "metadata": {},
      "outputs": [
        {
          "name": "stdout",
          "output_type": "stream",
          "text": [
            "Found 27688 validated image filenames belonging to 2 classes.\n"
          ]
        }
      ],
      "source": [
        "os.chdir(Path)\n",
        "test = ts.sample(frac = 1, random_state = 42)\n",
        "add = \"testing\"\n",
        "# Used above created test dataset for test image data generator\n",
        "test_datagen = ImageDataGenerator(\n",
        "    rescale=1./255)\n",
        "test_generator = test_datagen.flow_from_dataframe(\n",
        "    test,\n",
        "    Path,\n",
        "    x_col='filename',\n",
        "    y_col='category',\n",
        "    seed=30,\n",
        "    target_size=IMAGE_SIZE,\n",
        "    class_mode='categorical',\n",
        "    batch_size=batch_size,\n",
        "    shuffle=False\n",
        ")"
      ]
    },
    {
      "cell_type": "code",
      "execution_count": 33,
      "metadata": {},
      "outputs": [
        {
          "name": "stdout",
          "output_type": "stream",
          "text": [
            "866/866 [==============================] - 540s 623ms/step\n"
          ]
        }
      ],
      "source": [
        "predict = model.predict(\n",
        "    test_generator,\n",
        "    steps=np.ceil(total_test/batch_size),\n",
        "    verbose=1)\n",
        "\n",
        "#test['Pred_category'] = tf.greater(predict, .5)\n",
        "test['Pred_category'] = np.argmax(predict, axis=1)\n",
        "\n",
        "label_map = dict((v, k) for k, v in train_generator.class_indices.items())\n",
        "test['Pred_category'] = test['Pred_category'].replace(label_map)"
      ]
    },
    {
      "cell_type": "code",
      "execution_count": 34,
      "metadata": {},
      "outputs": [
        {
          "data": {
            "text/plain": [
              "<Figure size 640x480 with 0 Axes>"
            ]
          },
          "metadata": {},
          "output_type": "display_data"
        },
        {
          "data": {
            "image/png": "[encoded data removed]",
            "text/plain": [
              "<Figure size 640x480 with 1 Axes>"
            ]
          },
          "metadata": {},
          "output_type": "display_data"
        },
        {
          "data": {
            "image/png": "[encoded data removed]",
            "text/plain": [
              "<Figure size 640x480 with 1 Axes>"
            ]
          },
          "metadata": {},
          "output_type": "display_data"
        }
      ],
      "source": [
        "plt.figure()\n",
        "plt.subplots(1, 1)\n",
        "test['category'].value_counts().plot.bar()\n",
        "plt.subplots(1, 1)\n",
        "test['Pred_category'].value_counts().plot.bar()\n",
        "plt.show()"
      ]
    },
    {
      "cell_type": "code",
      "execution_count": 35,
      "metadata": {},
      "outputs": [
        {
          "data": {
            "text/plain": [
              "category\n",
              "Fake    24145\n",
              "Real     3543\n",
              "Name: count, dtype: int64"
            ]
          },
          "execution_count": 35,
          "metadata": {},
          "output_type": "execute_result"
        }
      ],
      "source": [
        "test['category'].value_counts()"
      ]
    },
    {
      "cell_type": "code",
      "execution_count": 36,
      "metadata": {},
      "outputs": [
        {
          "data": {
            "text/plain": [
              "Pred_category\n",
              "Fake    23863\n",
              "Real     3825\n",
              "Name: count, dtype: int64"
            ]
          },
          "execution_count": 36,
          "metadata": {},
          "output_type": "execute_result"
        }
      ],
      "source": [
        "test['Pred_category'].value_counts()"
      ]
    },
    {
      "cell_type": "code",
      "execution_count": 37,
      "metadata": {},
      "outputs": [
        {
          "name": "stdout",
          "output_type": "stream",
          "text": [
            "Prediction Accuracy = 0.9607049985553309\n"
          ]
        }
      ],
      "source": [
        "print('Prediction Accuracy =',metrics.accuracy_score(test['category'], test['Pred_category']))"
      ]
    },
    {
      "cell_type": "code",
      "execution_count": 38,
      "metadata": {},
      "outputs": [
        {
          "name": "stdout",
          "output_type": "stream",
          "text": [
            "866/866 [==============================] - 416s 479ms/step - loss: 0.1313 - categorical_accuracy: 0.9607\n",
            "categorical_accuracy: 96.07%\n"
          ]
        }
      ],
      "source": [
        "scores = model.evaluate(test_generator, steps=np.ceil(\n",
        "    total_test/batch_size), verbose=1)\n",
        "print(\"%s: %.2f%%\" % (model.metrics_names[1], scores[1]*100))"
      ]
    },
    {
      "cell_type": "code",
      "execution_count": 39,
      "metadata": {},
      "outputs": [
        {
          "data": {
            "image/png": "[encoded data removed]",
            "text/plain": [
              "<Figure size 640x480 with 2 Axes>"
            ]
          },
          "metadata": {},
          "output_type": "display_data"
        }
      ],
      "source": [
        "conf = confusion_matrix(y_pred=test['Pred_category'],y_true=test['category'])\n",
        "disp = ConfusionMatrixDisplay(conf)\n",
        "disp.plot()\n",
        "plt.show()"
      ]
    },
    {
      "cell_type": "code",
      "execution_count": 40,
      "metadata": {},
      "outputs": [
        {
          "name": "stdout",
          "output_type": "stream",
          "text": [
            "--- 69885.92206716537 seconds ---\n"
          ]
        }
      ],
      "source": [
        "# Tempo total de processamento\n",
        "print(\"--- %s seconds ---\" % (time.time() - start_time))"
      ]
    }
  ],
  "metadata": {
    "accelerator": "GPU",
    "colab": {
      "provenance": []
    },
    "gpuClass": "standard",
    "kernelspec": {
      "display_name": "base",
      "language": "python",
      "name": "python3"
    },
    "language_info": {
      "codemirror_mode": {
        "name": "ipython",
        "version": 3
      },
      "file_extension": ".py",
      "mimetype": "text/x-python",
      "name": "python",
      "nbconvert_exporter": "python",
      "pygments_lexer": "ipython3",
      "version": "3.11.5"
    },
    "vscode": {
      "interpreter": {
        "hash": "6f534eedfbed9e626bbc17a8d55623103bdb651c8b6b10dfa792c8fc8a590f45"
      }
    }
  },
  "nbformat": 4,
  "nbformat_minor": 0
}
