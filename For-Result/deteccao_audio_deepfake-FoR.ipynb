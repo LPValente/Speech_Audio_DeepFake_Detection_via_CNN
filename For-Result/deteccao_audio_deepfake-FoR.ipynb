{
  "cells": [
    {
      "attachments": {},
      "cell_type": "markdown",
      "metadata": {
        "id": "GCMidAfodcik"
      },
      "source": [
        "# Detecção de DeepFake de áudio a partir de imagens"
      ]
    },
    {
      "cell_type": "markdown",
      "metadata": {},
      "source": [
        "Instala todas as dependências necessárias"
      ]
    },
    {
      "cell_type": "code",
      "execution_count": 3,
      "metadata": {},
      "outputs": [
        {
          "name": "stdout",
          "output_type": "stream",
          "text": [
            "Requirement already satisfied: tensorflow in /home/lucas/miniconda3/envs/tf/lib/python3.11/site-packages (2.13.1)\n",
            "Requirement already satisfied: absl-py>=1.0.0 in /home/lucas/miniconda3/envs/tf/lib/python3.11/site-packages (from tensorflow) (2.0.0)\n",
            "Requirement already satisfied: astunparse>=1.6.0 in /home/lucas/miniconda3/envs/tf/lib/python3.11/site-packages (from tensorflow) (1.6.3)\n",
            "Requirement already satisfied: flatbuffers>=23.1.21 in /home/lucas/miniconda3/envs/tf/lib/python3.11/site-packages (from tensorflow) (23.5.26)\n",
            "Requirement already satisfied: gast!=0.5.0,!=0.5.1,!=0.5.2,>=0.2.1 in /home/lucas/miniconda3/envs/tf/lib/python3.11/site-packages (from tensorflow) (0.5.4)\n",
            "Requirement already satisfied: google-pasta>=0.1.1 in /home/lucas/miniconda3/envs/tf/lib/python3.11/site-packages (from tensorflow) (0.2.0)\n",
            "Requirement already satisfied: h5py>=2.9.0 in /home/lucas/miniconda3/envs/tf/lib/python3.11/site-packages (from tensorflow) (3.10.0)\n",
            "Requirement already satisfied: numpy>=1.22 in /home/lucas/miniconda3/envs/tf/lib/python3.11/site-packages (from tensorflow) (1.26.2)\n",
            "Requirement already satisfied: opt-einsum>=2.3.2 in /home/lucas/miniconda3/envs/tf/lib/python3.11/site-packages (from tensorflow) (3.3.0)\n",
            "Requirement already satisfied: packaging in /home/lucas/miniconda3/envs/tf/lib/python3.11/site-packages (from tensorflow) (23.2)\n",
            "Requirement already satisfied: protobuf!=4.21.0,!=4.21.1,!=4.21.2,!=4.21.3,!=4.21.4,!=4.21.5,<5.0.0dev,>=3.20.3 in /home/lucas/miniconda3/envs/tf/lib/python3.11/site-packages (from tensorflow) (4.21.12)\n",
            "Requirement already satisfied: setuptools in /home/lucas/miniconda3/envs/tf/lib/python3.11/site-packages (from tensorflow) (68.2.2)\n",
            "Requirement already satisfied: six>=1.12.0 in /home/lucas/miniconda3/envs/tf/lib/python3.11/site-packages (from tensorflow) (1.16.0)\n",
            "Requirement already satisfied: termcolor>=1.1.0 in /home/lucas/miniconda3/envs/tf/lib/python3.11/site-packages (from tensorflow) (2.3.0)\n",
            "Requirement already satisfied: typing-extensions<4.6.0,>=3.6.6 in /home/lucas/miniconda3/envs/tf/lib/python3.11/site-packages (from tensorflow) (4.5.0)\n",
            "Requirement already satisfied: wrapt>=1.11.0 in /home/lucas/miniconda3/envs/tf/lib/python3.11/site-packages (from tensorflow) (1.16.0)\n",
            "Requirement already satisfied: grpcio<2.0,>=1.24.3 in /home/lucas/miniconda3/envs/tf/lib/python3.11/site-packages (from tensorflow) (1.54.3)\n",
            "Requirement already satisfied: tensorboard<2.14,>=2.13 in /home/lucas/miniconda3/envs/tf/lib/python3.11/site-packages (from tensorflow) (2.13.0)\n",
            "Requirement already satisfied: tensorflow-estimator<2.14,>=2.13.0 in /home/lucas/miniconda3/envs/tf/lib/python3.11/site-packages (from tensorflow) (2.13.0)\n",
            "Requirement already satisfied: keras<2.14,>=2.13.1 in /home/lucas/miniconda3/envs/tf/lib/python3.11/site-packages (from tensorflow) (2.13.1)\n",
            "Requirement already satisfied: wheel<1.0,>=0.23.0 in /home/lucas/.local/lib/python3.11/site-packages (from astunparse>=1.6.0->tensorflow) (0.41.2)\n",
            "Requirement already satisfied: google-auth<3,>=1.6.3 in /home/lucas/miniconda3/envs/tf/lib/python3.11/site-packages (from tensorboard<2.14,>=2.13->tensorflow) (2.23.4)\n",
            "Requirement already satisfied: google-auth-oauthlib<1.1,>=0.5 in /home/lucas/miniconda3/envs/tf/lib/python3.11/site-packages (from tensorboard<2.14,>=2.13->tensorflow) (1.0.0)\n",
            "Requirement already satisfied: markdown>=2.6.8 in /home/lucas/miniconda3/envs/tf/lib/python3.11/site-packages (from tensorboard<2.14,>=2.13->tensorflow) (3.5.1)\n",
            "Requirement already satisfied: requests<3,>=2.21.0 in /home/lucas/miniconda3/envs/tf/lib/python3.11/site-packages (from tensorboard<2.14,>=2.13->tensorflow) (2.31.0)\n",
            "Requirement already satisfied: tensorboard-data-server<0.8.0,>=0.7.0 in /home/lucas/miniconda3/envs/tf/lib/python3.11/site-packages (from tensorboard<2.14,>=2.13->tensorflow) (0.7.0)\n",
            "Requirement already satisfied: werkzeug>=1.0.1 in /home/lucas/miniconda3/envs/tf/lib/python3.11/site-packages (from tensorboard<2.14,>=2.13->tensorflow) (3.0.1)\n",
            "Requirement already satisfied: cachetools<6.0,>=2.0.0 in /home/lucas/miniconda3/envs/tf/lib/python3.11/site-packages (from google-auth<3,>=1.6.3->tensorboard<2.14,>=2.13->tensorflow) (5.3.2)\n",
            "Requirement already satisfied: pyasn1-modules>=0.2.1 in /home/lucas/miniconda3/envs/tf/lib/python3.11/site-packages (from google-auth<3,>=1.6.3->tensorboard<2.14,>=2.13->tensorflow) (0.3.0)\n",
            "Requirement already satisfied: rsa<5,>=3.1.4 in /home/lucas/miniconda3/envs/tf/lib/python3.11/site-packages (from google-auth<3,>=1.6.3->tensorboard<2.14,>=2.13->tensorflow) (4.9)\n",
            "Requirement already satisfied: requests-oauthlib>=0.7.0 in /home/lucas/miniconda3/envs/tf/lib/python3.11/site-packages (from google-auth-oauthlib<1.1,>=0.5->tensorboard<2.14,>=2.13->tensorflow) (1.3.1)\n",
            "Requirement already satisfied: charset-normalizer<4,>=2 in /home/lucas/miniconda3/envs/tf/lib/python3.11/site-packages (from requests<3,>=2.21.0->tensorboard<2.14,>=2.13->tensorflow) (3.3.2)\n",
            "Requirement already satisfied: idna<4,>=2.5 in /home/lucas/miniconda3/envs/tf/lib/python3.11/site-packages (from requests<3,>=2.21.0->tensorboard<2.14,>=2.13->tensorflow) (3.6)\n",
            "Requirement already satisfied: urllib3<3,>=1.21.1 in /home/lucas/miniconda3/envs/tf/lib/python3.11/site-packages (from requests<3,>=2.21.0->tensorboard<2.14,>=2.13->tensorflow) (2.1.0)\n",
            "Requirement already satisfied: certifi>=2017.4.17 in /home/lucas/miniconda3/envs/tf/lib/python3.11/site-packages (from requests<3,>=2.21.0->tensorboard<2.14,>=2.13->tensorflow) (2023.11.17)\n",
            "Requirement already satisfied: MarkupSafe>=2.1.1 in /home/lucas/miniconda3/envs/tf/lib/python3.11/site-packages (from werkzeug>=1.0.1->tensorboard<2.14,>=2.13->tensorflow) (2.1.3)\n",
            "Requirement already satisfied: pyasn1<0.6.0,>=0.4.6 in /home/lucas/miniconda3/envs/tf/lib/python3.11/site-packages (from pyasn1-modules>=0.2.1->google-auth<3,>=1.6.3->tensorboard<2.14,>=2.13->tensorflow) (0.5.0)\n",
            "Requirement already satisfied: oauthlib>=3.0.0 in /home/lucas/miniconda3/envs/tf/lib/python3.11/site-packages (from requests-oauthlib>=0.7.0->google-auth-oauthlib<1.1,>=0.5->tensorboard<2.14,>=2.13->tensorflow) (3.2.2)\n",
            "Note: you may need to restart the kernel to use updated packages.\n",
            "Requirement already satisfied: numpy in /home/lucas/miniconda3/envs/tf/lib/python3.11/site-packages (1.26.2)\n",
            "Note: you may need to restart the kernel to use updated packages.\n",
            "Collecting pandas\n",
            "  Downloading pandas-2.1.3-cp311-cp311-manylinux_2_17_x86_64.manylinux2014_x86_64.whl.metadata (18 kB)\n",
            "Requirement already satisfied: numpy<2,>=1.23.2 in /home/lucas/miniconda3/envs/tf/lib/python3.11/site-packages (from pandas) (1.26.2)\n",
            "Requirement already satisfied: python-dateutil>=2.8.2 in /home/lucas/miniconda3/envs/tf/lib/python3.11/site-packages (from pandas) (2.8.2)\n",
            "Collecting pytz>=2020.1 (from pandas)\n",
            "  Using cached pytz-2023.3.post1-py2.py3-none-any.whl.metadata (22 kB)\n",
            "Collecting tzdata>=2022.1 (from pandas)\n",
            "  Using cached tzdata-2023.3-py2.py3-none-any.whl (341 kB)\n",
            "Requirement already satisfied: six>=1.5 in /home/lucas/miniconda3/envs/tf/lib/python3.11/site-packages (from python-dateutil>=2.8.2->pandas) (1.16.0)\n",
            "Downloading pandas-2.1.3-cp311-cp311-manylinux_2_17_x86_64.manylinux2014_x86_64.whl (12.2 MB)\n",
            "\u001b[2K   \u001b[90m━━━━━━━━━━━━━━━━━━━━━━━━━━━━━━━━━━━━━━━━\u001b[0m \u001b[32m12.2/12.2 MB\u001b[0m \u001b[31m13.9 MB/s\u001b[0m eta \u001b[36m0:00:00\u001b[0m00:01\u001b[0m00:01\u001b[0m\n",
            "\u001b[?25hUsing cached pytz-2023.3.post1-py2.py3-none-any.whl (502 kB)\n",
            "Installing collected packages: pytz, tzdata, pandas\n",
            "Successfully installed pandas-2.1.3 pytz-2023.3.post1 tzdata-2023.3\n",
            "Note: you may need to restart the kernel to use updated packages.\n",
            "Requirement already satisfied: pillow in /home/lucas/miniconda3/envs/tf/lib/python3.11/site-packages (10.1.0)\n",
            "Note: you may need to restart the kernel to use updated packages.\n",
            "Requirement already satisfied: matplotlib in /home/lucas/miniconda3/envs/tf/lib/python3.11/site-packages (3.8.2)\n",
            "Requirement already satisfied: contourpy>=1.0.1 in /home/lucas/miniconda3/envs/tf/lib/python3.11/site-packages (from matplotlib) (1.2.0)\n",
            "Requirement already satisfied: cycler>=0.10 in /home/lucas/miniconda3/envs/tf/lib/python3.11/site-packages (from matplotlib) (0.12.1)\n",
            "Requirement already satisfied: fonttools>=4.22.0 in /home/lucas/miniconda3/envs/tf/lib/python3.11/site-packages (from matplotlib) (4.45.1)\n",
            "Requirement already satisfied: kiwisolver>=1.3.1 in /home/lucas/miniconda3/envs/tf/lib/python3.11/site-packages (from matplotlib) (1.4.5)\n",
            "Requirement already satisfied: numpy<2,>=1.21 in /home/lucas/miniconda3/envs/tf/lib/python3.11/site-packages (from matplotlib) (1.26.2)\n",
            "Requirement already satisfied: packaging>=20.0 in /home/lucas/miniconda3/envs/tf/lib/python3.11/site-packages (from matplotlib) (23.2)\n",
            "Requirement already satisfied: pillow>=8 in /home/lucas/miniconda3/envs/tf/lib/python3.11/site-packages (from matplotlib) (10.1.0)\n",
            "Requirement already satisfied: pyparsing>=2.3.1 in /home/lucas/miniconda3/envs/tf/lib/python3.11/site-packages (from matplotlib) (3.1.1)\n",
            "Requirement already satisfied: python-dateutil>=2.7 in /home/lucas/miniconda3/envs/tf/lib/python3.11/site-packages (from matplotlib) (2.8.2)\n",
            "Requirement already satisfied: six>=1.5 in /home/lucas/miniconda3/envs/tf/lib/python3.11/site-packages (from python-dateutil>=2.7->matplotlib) (1.16.0)\n",
            "Note: you may need to restart the kernel to use updated packages.\n",
            "Requirement already satisfied: scikit-learn in /home/lucas/miniconda3/envs/tf/lib/python3.11/site-packages (1.3.2)\n",
            "Requirement already satisfied: numpy<2.0,>=1.17.3 in /home/lucas/miniconda3/envs/tf/lib/python3.11/site-packages (from scikit-learn) (1.26.2)\n",
            "Requirement already satisfied: scipy>=1.5.0 in /home/lucas/miniconda3/envs/tf/lib/python3.11/site-packages (from scikit-learn) (1.11.4)\n",
            "Requirement already satisfied: joblib>=1.1.1 in /home/lucas/miniconda3/envs/tf/lib/python3.11/site-packages (from scikit-learn) (1.3.2)\n",
            "Requirement already satisfied: threadpoolctl>=2.0.0 in /home/lucas/miniconda3/envs/tf/lib/python3.11/site-packages (from scikit-learn) (3.2.0)\n",
            "Note: you may need to restart the kernel to use updated packages.\n",
            "Requirement already satisfied: visualkeras in /home/lucas/miniconda3/envs/tf/lib/python3.11/site-packages (0.0.2)\n",
            "Requirement already satisfied: pillow>=6.2.0 in /home/lucas/miniconda3/envs/tf/lib/python3.11/site-packages (from visualkeras) (10.1.0)\n",
            "Requirement already satisfied: numpy>=1.18.1 in /home/lucas/miniconda3/envs/tf/lib/python3.11/site-packages (from visualkeras) (1.26.2)\n",
            "Requirement already satisfied: aggdraw>=1.3.11 in /home/lucas/miniconda3/envs/tf/lib/python3.11/site-packages (from visualkeras) (1.3.18)\n",
            "Note: you may need to restart the kernel to use updated packages.\n",
            "Requirement already satisfied: pydot in /home/lucas/miniconda3/envs/tf/lib/python3.11/site-packages (1.4.2)\n",
            "Requirement already satisfied: pyparsing>=2.1.4 in /home/lucas/miniconda3/envs/tf/lib/python3.11/site-packages (from pydot) (3.1.1)\n",
            "Note: you may need to restart the kernel to use updated packages.\n",
            "Requirement already satisfied: graphviz in /home/lucas/miniconda3/envs/tf/lib/python3.11/site-packages (0.20.1)\n",
            "Note: you may need to restart the kernel to use updated packages.\n"
          ]
        }
      ],
      "source": [
        "\n",
        "%pip install tensorflow\n",
        "%pip install numpy\n",
        "%pip install pandas\n",
        "%pip install pillow\n",
        "%pip install matplotlib\n",
        "%pip install scikit-learn\n",
        "%pip install visualkeras\n",
        "%pip install pydot\n",
        "%pip install graphviz\n"
      ]
    },
    {
      "cell_type": "code",
      "execution_count": 4,
      "metadata": {},
      "outputs": [],
      "source": [
        "# importa as bibliotecas\n",
        "\n",
        "import tensorflow as tf\n",
        "import numpy as np\n",
        "import pandas as pd\n",
        "import os\n",
        "from PIL import Image\n",
        "from PIL import ImageFont\n",
        "import matplotlib.pyplot as plt\n",
        "import visualkeras as vk\n",
        "\n",
        "from keras.models import Sequential\n",
        "from keras.callbacks import EarlyStopping, ReduceLROnPlateau\n",
        "from keras.layers import Conv2D, MaxPooling2D, AveragePooling2D, Dropout, Flatten, Dense, Activation, BatchNormalization\n",
        "from keras.callbacks import ModelCheckpoint, EarlyStopping, TensorBoard\n",
        "from keras.losses import CategoricalCrossentropy\n",
        "from keras.losses import categorical_crossentropy\n",
        "from keras import regularizers\n",
        "from keras import initializers\n",
        "import time\n",
        "from keras.preprocessing.image import ImageDataGenerator  # , load_img\n",
        "from keras.utils import to_categorical, plot_model\n",
        "from keras.metrics import CategoricalAccuracy\n",
        "from sklearn.metrics import confusion_matrix\n",
        "from sklearn.metrics import ConfusionMatrixDisplay\n",
        "#from sklearn.metrics import plot_confusion_matrix\n",
        "from sklearn.model_selection import train_test_split\n",
        "from sklearn import metrics"
      ]
    },
    {
      "cell_type": "code",
      "execution_count": 5,
      "metadata": {},
      "outputs": [
        {
          "name": "stdout",
          "output_type": "stream",
          "text": [
            "Num GPUs Available:  2\n"
          ]
        },
        {
          "name": "stderr",
          "output_type": "stream",
          "text": [
            "2023-11-28 07:20:53.417285: I tensorflow/compiler/xla/stream_executor/cuda/cuda_gpu_executor.cc:981] could not open file to read NUMA node: /sys/bus/pci/devices/0000:05:00.0/numa_node\n",
            "Your kernel may have been built without NUMA support.\n",
            "2023-11-28 07:20:53.418150: I tensorflow/compiler/xla/stream_executor/cuda/cuda_gpu_executor.cc:981] could not open file to read NUMA node: /sys/bus/pci/devices/0000:81:00.0/numa_node\n",
            "Your kernel may have been built without NUMA support.\n",
            "2023-11-28 07:20:53.457276: I tensorflow/compiler/xla/stream_executor/cuda/cuda_gpu_executor.cc:981] could not open file to read NUMA node: /sys/bus/pci/devices/0000:05:00.0/numa_node\n",
            "Your kernel may have been built without NUMA support.\n",
            "2023-11-28 07:20:53.458223: I tensorflow/compiler/xla/stream_executor/cuda/cuda_gpu_executor.cc:981] could not open file to read NUMA node: /sys/bus/pci/devices/0000:81:00.0/numa_node\n",
            "Your kernel may have been built without NUMA support.\n",
            "2023-11-28 07:20:53.459200: I tensorflow/compiler/xla/stream_executor/cuda/cuda_gpu_executor.cc:981] could not open file to read NUMA node: /sys/bus/pci/devices/0000:05:00.0/numa_node\n",
            "Your kernel may have been built without NUMA support.\n",
            "2023-11-28 07:20:53.460291: I tensorflow/compiler/xla/stream_executor/cuda/cuda_gpu_executor.cc:981] could not open file to read NUMA node: /sys/bus/pci/devices/0000:81:00.0/numa_node\n",
            "Your kernel may have been built without NUMA support.\n"
          ]
        },
        {
          "data": {
            "text/plain": [
              "[PhysicalDevice(name='/physical_device:GPU:0', device_type='GPU'),\n",
              " PhysicalDevice(name='/physical_device:GPU:1', device_type='GPU')]"
            ]
          },
          "execution_count": 5,
          "metadata": {},
          "output_type": "execute_result"
        }
      ],
      "source": [
        "print(\"Num GPUs Available: \", len(tf.config.list_physical_devices('GPU')))\n",
        "\n",
        "tf.config.list_physical_devices('GPU')"
      ]
    },
    {
      "cell_type": "code",
      "execution_count": 7,
      "metadata": {},
      "outputs": [],
      "source": [
        "#TF_GPU_ALLOCATOR=cuda_malloc_async\n",
        "# Começa a contar o tempo de processamento\n",
        "start_time = time.time()\n",
        "\n",
        "# Setando o endereço dos arquivos\n",
        "\n",
        "os.getcwd()\n",
        "\n",
        "#Path = 'D:/Google Drive/EnsinoAprendizagem/UFC/Mestrado/Dissertação/Datasets/FoR/for-2sec-img'\n",
        "#Path = '/mnt/d/Google Drive/EnsinoAprendizagem/UFC/Mestrado/Dissertação/Datasets/FoR/for-2sec-img'\n",
        "#Path = 'D:/Google Drive/EnsinoAprendizagem/UFC/Mestrado/Dissertação/Datasets/FoR/for-2sec-mel'\n",
        "Path = '/mnt/d/Google Drive/EnsinoAprendizagem/UFC/Mestrado/Dissertação/Datasets/FoR/for-2sec-mel'"
      ]
    },
    {
      "cell_type": "code",
      "execution_count": 8,
      "metadata": {},
      "outputs": [
        {
          "name": "stdout",
          "output_type": "stream",
          "text": [
            "Bad file: desktop.ini\n",
            "Bad file: desktop.ini\n",
            "Bad file: desktop.ini\n",
            "Bad file: desktop.ini\n",
            "Bad file: desktop.ini\n",
            "Bad file: desktop.ini\n"
          ]
        }
      ],
      "source": [
        "#----------------------------------- Criação do Banco de Dados a Partir das Imagens -----------------------------#\n",
        "\n",
        "# Dados de treino\n",
        "os.chdir(Path + '/training')\n",
        "\n",
        "# Real\n",
        "realTR = os.listdir('real')\n",
        "for filename in realTR:\n",
        "    if True:\n",
        "        try:\n",
        "            img = Image.open('real/' + filename) # open the image file\n",
        "            img.verify() # verify that it is, in fact an image\n",
        "        except (IOError, SyntaxError) as e:\n",
        "            print('Bad file:', filename) # print out the names of corrupt files\n",
        "            realTR.remove(filename)\n",
        "\n",
        "\n",
        "# Fake\n",
        "fakeTR = os.listdir('fake')\n",
        "for filename in fakeTR:\n",
        "    if True:\n",
        "        try:\n",
        "            img = Image.open('fake/' + filename) # open the image file\n",
        "            img.verify() # verify that it is, in fact an image\n",
        "        except (IOError, SyntaxError) as e:\n",
        "            print('Bad file:', filename) # print out the names of corrupt files\n",
        "            fakeTR.remove(filename)\n",
        "\n",
        "auxReal = []\n",
        "auxDir = []\n",
        "for i in realTR:\n",
        "    auxReal.append(0)\n",
        "    auxDir.append(\"training/real/\" + i)\n",
        "realTR = pd.DataFrame({'filename': auxDir, 'category': auxReal})\n",
        "\n",
        "auxFake = []\n",
        "auxDir = []\n",
        "for i in fakeTR:\n",
        "    auxFake.append(1)\n",
        "    auxDir.append(\"training/fake/\" + i)\n",
        "fakeTR = pd.DataFrame({'filename': auxDir, 'category': auxFake})\n",
        "\n",
        "\n",
        "# Dados de teste\n",
        "os.chdir(Path + '/testing')\n",
        "\n",
        "# Real\n",
        "realTS = os.listdir('real')\n",
        "for filename in realTS:\n",
        "    if True:\n",
        "        try:\n",
        "            img = Image.open('real/' + filename) # open the image file\n",
        "            img.verify() # verify that it is, in fact an image\n",
        "        except (IOError, SyntaxError) as e:\n",
        "            print('Bad file:', filename) # print out the names of corrupt files\n",
        "            realTS.remove(filename)\n",
        "\n",
        "# Fake\n",
        "fakeTS = os.listdir('fake')\n",
        "for filename in fakeTS:\n",
        "    if True:\n",
        "        try:\n",
        "            img = Image.open('fake/' + filename) # open the image file\n",
        "            img.verify() # verify that it is, in fact an image\n",
        "        except (IOError, SyntaxError) as e:\n",
        "            print('Bad file:', filename) # print out the names of corrupt files\n",
        "            fakeTS.remove(filename)\n",
        "\n",
        "auxReal = []\n",
        "auxDir = []\n",
        "for i in realTS:\n",
        "    auxReal.append(0)\n",
        "    auxDir.append(\"testing/real/\" + i)\n",
        "realTS = pd.DataFrame({'filename': auxDir, 'category': auxReal})\n",
        "\n",
        "auxFake = []\n",
        "auxDir = []\n",
        "for i in fakeTS:\n",
        "    auxFake.append(1)\n",
        "    auxDir.append(\"testing/fake/\" + i)\n",
        "fakeTS = pd.DataFrame({'filename': auxDir, 'category': auxFake})\n",
        "\n",
        "\n",
        "# Dados de validação\n",
        "os.chdir(Path + '/validation')\n",
        "\n",
        "# Real\n",
        "realVL = os.listdir('real')\n",
        "for filename in realVL:\n",
        "    if True:\n",
        "        try:\n",
        "            img = Image.open('real/' + filename) # open the image file\n",
        "            img.verify() # verify that it is, in fact an image\n",
        "        except (IOError, SyntaxError) as e:\n",
        "            print('Bad file:', filename) # print out the names of corrupt files\n",
        "            realVL.remove(filename)\n",
        "\n",
        "# Fake\n",
        "fakeVL = os.listdir('fake')\n",
        "for filename in fakeVL:\n",
        "    if True:\n",
        "        try:\n",
        "            img = Image.open('fake/' + filename) # open the image file\n",
        "            img.verify() # verify that it is, in fact an image\n",
        "        except (IOError, SyntaxError) as e:\n",
        "            print('Bad file:', filename) # print out the names of corrupt files\n",
        "            fakeVL.remove(filename)\n",
        "\n",
        "auxReal = []\n",
        "auxDir = []\n",
        "for i in realVL:\n",
        "    auxReal.append(0)\n",
        "    auxDir.append(\"validation/real/\" + i)\n",
        "realVL = pd.DataFrame({'filename': auxDir, 'category': auxReal})\n",
        "\n",
        "auxFake = []\n",
        "auxDir = []\n",
        "for i in fakeVL:\n",
        "    auxFake.append(1)\n",
        "    auxDir.append(\"validation/fake/\" + i)\n",
        "fakeVL = pd.DataFrame({'filename': auxDir, 'category': auxFake})"
      ]
    },
    {
      "cell_type": "code",
      "execution_count": 9,
      "metadata": {},
      "outputs": [
        {
          "data": {
            "text/plain": [
              "<Axes: xlabel='category'>"
            ]
          },
          "execution_count": 9,
          "metadata": {},
          "output_type": "execute_result"
        },
        {
          "data": {
            "image/png": "[encoded data removed]",
            "text/plain": [
              "<Figure size 640x480 with 1 Axes>"
            ]
          },
          "metadata": {},
          "output_type": "display_data"
        }
      ],
      "source": [
        "TotalImgs = [realTR, fakeTR, realTS, fakeTS, realVL, fakeVL]\n",
        "TotalImgs = pd.concat(TotalImgs)\n",
        "TotalImgs = TotalImgs.sample(frac=1, random_state=42)\n",
        "\n",
        "TotalImgs['category'].value_counts().plot.bar()"
      ]
    },
    {
      "cell_type": "code",
      "execution_count": 10,
      "metadata": {},
      "outputs": [
        {
          "data": {
            "text/plain": [
              "'\\ntr = [realTR, fakeTR]\\ntr = pd.concat(tr)\\nts = [realTS, fakeTS]\\nts = pd.concat(ts)\\nvl = [realVL, fakeVL]\\nvl = pd.concat(vl)\\n'"
            ]
          },
          "execution_count": 10,
          "metadata": {},
          "output_type": "execute_result"
        }
      ],
      "source": [
        "tr, ts = train_test_split(TotalImgs, test_size=0.3, random_state=42)\n",
        "ts, vl = train_test_split(ts, test_size= 0.5, random_state=42)\n",
        "\n",
        "'''\n",
        "tr = [realTR, fakeTR]\n",
        "tr = pd.concat(tr)\n",
        "ts = [realTS, fakeTS]\n",
        "ts = pd.concat(ts)\n",
        "vl = [realVL, fakeVL]\n",
        "vl = pd.concat(vl)\n",
        "'''"
      ]
    },
    {
      "cell_type": "code",
      "execution_count": 11,
      "metadata": {},
      "outputs": [
        {
          "data": {
            "text/plain": [
              "<Axes: xlabel='category'>"
            ]
          },
          "execution_count": 11,
          "metadata": {},
          "output_type": "execute_result"
        },
        {
          "data": {
            "image/png": "[encoded data removed]",
            "text/plain": [
              "<Figure size 640x480 with 1 Axes>"
            ]
          },
          "metadata": {},
          "output_type": "display_data"
        }
      ],
      "source": [
        "tr['category'].value_counts().plot.bar()"
      ]
    },
    {
      "cell_type": "code",
      "execution_count": 12,
      "metadata": {},
      "outputs": [
        {
          "data": {
            "text/plain": [
              "<Axes: xlabel='category'>"
            ]
          },
          "execution_count": 12,
          "metadata": {},
          "output_type": "execute_result"
        },
        {
          "data": {
            "image/png": "[encoded data removed]",
            "text/plain": [
              "<Figure size 640x480 with 1 Axes>"
            ]
          },
          "metadata": {},
          "output_type": "display_data"
        }
      ],
      "source": [
        "ts['category'].value_counts().plot.bar()"
      ]
    },
    {
      "cell_type": "code",
      "execution_count": 13,
      "metadata": {},
      "outputs": [
        {
          "data": {
            "text/plain": [
              "<Axes: xlabel='category'>"
            ]
          },
          "execution_count": 13,
          "metadata": {},
          "output_type": "execute_result"
        },
        {
          "data": {
            "image/png": "[encoded data removed]",
            "text/plain": [
              "<Figure size 640x480 with 1 Axes>"
            ]
          },
          "metadata": {},
          "output_type": "display_data"
        }
      ],
      "source": [
        "vl['category'].value_counts().plot.bar()"
      ]
    },
    {
      "cell_type": "code",
      "execution_count": 14,
      "metadata": {},
      "outputs": [],
      "source": [
        "# ----------------------------------- Modelagem da CNN -----------------------------#\n",
        "\n",
        "# Define Constants\n",
        "FAST_RUN = True\n",
        "IMAGE_WIDTH=256\n",
        "IMAGE_HEIGHT=256\n",
        "IMAGE_SIZE=(IMAGE_WIDTH, IMAGE_HEIGHT)\n",
        "IMAGE_CHANNELS=3"
      ]
    },
    {
      "cell_type": "code",
      "execution_count": 15,
      "metadata": {},
      "outputs": [
        {
          "name": "stderr",
          "output_type": "stream",
          "text": [
            "2023-11-28 07:24:57.913904: I tensorflow/compiler/xla/stream_executor/cuda/cuda_gpu_executor.cc:981] could not open file to read NUMA node: /sys/bus/pci/devices/0000:05:00.0/numa_node\n",
            "Your kernel may have been built without NUMA support.\n",
            "2023-11-28 07:24:57.914901: I tensorflow/compiler/xla/stream_executor/cuda/cuda_gpu_executor.cc:981] could not open file to read NUMA node: /sys/bus/pci/devices/0000:81:00.0/numa_node\n",
            "Your kernel may have been built without NUMA support.\n",
            "2023-11-28 07:24:57.915823: I tensorflow/compiler/xla/stream_executor/cuda/cuda_gpu_executor.cc:981] could not open file to read NUMA node: /sys/bus/pci/devices/0000:05:00.0/numa_node\n",
            "Your kernel may have been built without NUMA support.\n",
            "2023-11-28 07:24:57.916737: I tensorflow/compiler/xla/stream_executor/cuda/cuda_gpu_executor.cc:981] could not open file to read NUMA node: /sys/bus/pci/devices/0000:81:00.0/numa_node\n",
            "Your kernel may have been built without NUMA support.\n",
            "2023-11-28 07:24:57.917669: I tensorflow/compiler/xla/stream_executor/cuda/cuda_gpu_executor.cc:981] could not open file to read NUMA node: /sys/bus/pci/devices/0000:05:00.0/numa_node\n",
            "Your kernel may have been built without NUMA support.\n",
            "2023-11-28 07:24:57.918660: I tensorflow/compiler/xla/stream_executor/cuda/cuda_gpu_executor.cc:981] could not open file to read NUMA node: /sys/bus/pci/devices/0000:81:00.0/numa_node\n",
            "Your kernel may have been built without NUMA support.\n",
            "2023-11-28 07:24:57.937394: I tensorflow/compiler/xla/stream_executor/cuda/cuda_gpu_executor.cc:981] could not open file to read NUMA node: /sys/bus/pci/devices/0000:05:00.0/numa_node\n",
            "Your kernel may have been built without NUMA support.\n",
            "2023-11-28 07:24:57.938582: I tensorflow/compiler/xla/stream_executor/cuda/cuda_gpu_executor.cc:981] could not open file to read NUMA node: /sys/bus/pci/devices/0000:81:00.0/numa_node\n",
            "Your kernel may have been built without NUMA support.\n",
            "2023-11-28 07:24:57.939555: I tensorflow/compiler/xla/stream_executor/cuda/cuda_gpu_executor.cc:981] could not open file to read NUMA node: /sys/bus/pci/devices/0000:05:00.0/numa_node\n",
            "Your kernel may have been built without NUMA support.\n",
            "2023-11-28 07:24:57.939577: I tensorflow/core/common_runtime/gpu/gpu_device.cc:1726] Could not identify NUMA node of platform GPU id 0, defaulting to 0.  Your kernel may not have been built with NUMA support.\n",
            "2023-11-28 07:24:57.940510: I tensorflow/compiler/xla/stream_executor/cuda/cuda_gpu_executor.cc:981] could not open file to read NUMA node: /sys/bus/pci/devices/0000:81:00.0/numa_node\n",
            "Your kernel may have been built without NUMA support.\n",
            "2023-11-28 07:24:57.940530: I tensorflow/core/common_runtime/gpu/gpu_device.cc:1726] Could not identify NUMA node of platform GPU id 1, defaulting to 0.  Your kernel may not have been built with NUMA support.\n",
            "2023-11-28 07:24:57.941579: I tensorflow/compiler/xla/stream_executor/cuda/cuda_gpu_executor.cc:981] could not open file to read NUMA node: /sys/bus/pci/devices/0000:05:00.0/numa_node\n",
            "Your kernel may have been built without NUMA support.\n",
            "2023-11-28 07:24:57.941625: I tensorflow/core/common_runtime/gpu/gpu_device.cc:1639] Created device /job:localhost/replica:0/task:0/device:GPU:0 with 9571 MB memory:  -> device: 0, name: NVIDIA GeForce RTX 4070, pci bus id: 0000:05:00.0, compute capability: 8.9\n",
            "2023-11-28 07:24:57.944304: I tensorflow/compiler/xla/stream_executor/cuda/cuda_gpu_executor.cc:981] could not open file to read NUMA node: /sys/bus/pci/devices/0000:81:00.0/numa_node\n",
            "Your kernel may have been built without NUMA support.\n",
            "2023-11-28 07:24:57.944344: I tensorflow/core/common_runtime/gpu/gpu_device.cc:1639] Created device /job:localhost/replica:0/task:0/device:GPU:1 with 9725 MB memory:  -> device: 1, name: NVIDIA GeForce RTX 3060, pci bus id: 0000:81:00.0, compute capability: 8.6\n"
          ]
        }
      ],
      "source": [
        "# Gerando o modelo\n",
        "model = Sequential()\n",
        "\n",
        "model.add(Conv2D(8, (5, 5), activation='relu', input_shape=(\n",
        "    IMAGE_WIDTH, IMAGE_HEIGHT, IMAGE_CHANNELS)))\n",
        "model.add(BatchNormalization())\n",
        "model.add(AveragePooling2D(pool_size=(2, 2)))\n",
        "model.add(Dropout(0.25))\n",
        "\n",
        "model.add(Conv2D(8, (1, 1), activation='relu'))\n",
        "model.add(BatchNormalization())\n",
        "model.add(Conv2D(16, (3, 3), activation='relu'))\n",
        "model.add(BatchNormalization())\n",
        "model.add(AveragePooling2D(pool_size=(2, 2)))\n",
        "model.add(Dropout(0.25))\n",
        "\n",
        "model.add(Conv2D(16, (1, 1), activation='relu'))\n",
        "model.add(BatchNormalization())\n",
        "model.add(Conv2D(32, (3, 3), activation='relu'))\n",
        "model.add(BatchNormalization())\n",
        "model.add(AveragePooling2D(pool_size=(2, 2)))\n",
        "model.add(Dropout(0.25))\n",
        "\n",
        "model.add(Conv2D(32, (1, 1), activation='relu'))\n",
        "model.add(BatchNormalization())\n",
        "model.add(Conv2D(64, (3, 3), activation='relu'))\n",
        "model.add(BatchNormalization())\n",
        "model.add(AveragePooling2D(pool_size=(2, 2)))\n",
        "model.add(Dropout(0.25))\n",
        "\n",
        "model.add(Conv2D(64, (1, 1), activation='relu'))\n",
        "model.add(BatchNormalization())\n",
        "model.add(Conv2D(128, (3, 3), activation='relu'))\n",
        "model.add(BatchNormalization())\n",
        "model.add(AveragePooling2D(pool_size=(2, 2)))\n",
        "model.add(Dropout(0.25))\n",
        "\n",
        "'''\n",
        "model.add(Conv2D(16, (3, 3), activation='relu'))\n",
        "model.add(BatchNormalization())\n",
        "model.add(MaxPooling2D(pool_size=(2, 2)))\n",
        "model.add(Dropout(0.25))\n",
        "'''\n",
        "model.add(Flatten())\n",
        "model.add(Dropout(0.25))\n",
        "model.add(Dense(\n",
        "    5000,\n",
        "    kernel_regularizer=regularizers.L1L2(l1=1e-5, l2=1e-4),\n",
        "    bias_regularizer=regularizers.L2(1e-4),\n",
        "    activity_regularizer=regularizers.L2(1e-5),\n",
        "    activation='relu',\n",
        "    kernel_initializer=initializers.RandomNormal(stddev=0.01),\n",
        "    bias_initializer=initializers.Zeros()))\n",
        "model.add(BatchNormalization())\n",
        "model.add(Dropout(0.25))\n",
        "model.add(Dense(\n",
        "    2,\n",
        "    kernel_regularizer=regularizers.L1L2(l1=1e-5, l2=1e-4),\n",
        "    bias_regularizer=regularizers.L2(1e-4),\n",
        "    activity_regularizer=regularizers.L2(1e-5),\n",
        "    activation='softmax',\n",
        "    kernel_initializer=initializers.RandomNormal(stddev=0.01),\n",
        "    bias_initializer=initializers.Zeros()))"
      ]
    },
    {
      "cell_type": "code",
      "execution_count": 16,
      "metadata": {},
      "outputs": [
        {
          "name": "stdout",
          "output_type": "stream",
          "text": [
            "Model: \"sequential\"\n",
            "_________________________________________________________________\n",
            " Layer (type)                Output Shape              Param #   \n",
            "=================================================================\n",
            " conv2d (Conv2D)             (None, 252, 252, 8)       608       \n",
            "                                                                 \n",
            " batch_normalization (Batch  (None, 252, 252, 8)       32        \n",
            " Normalization)                                                  \n",
            "                                                                 \n",
            " average_pooling2d (Average  (None, 126, 126, 8)       0         \n",
            " Pooling2D)                                                      \n",
            "                                                                 \n",
            " dropout (Dropout)           (None, 126, 126, 8)       0         \n",
            "                                                                 \n",
            " conv2d_1 (Conv2D)           (None, 126, 126, 8)       72        \n",
            "                                                                 \n",
            " batch_normalization_1 (Bat  (None, 126, 126, 8)       32        \n",
            " chNormalization)                                                \n",
            "                                                                 \n",
            " conv2d_2 (Conv2D)           (None, 124, 124, 16)      1168      \n",
            "                                                                 \n",
            " batch_normalization_2 (Bat  (None, 124, 124, 16)      64        \n",
            " chNormalization)                                                \n",
            "                                                                 \n",
            " average_pooling2d_1 (Avera  (None, 62, 62, 16)        0         \n",
            " gePooling2D)                                                    \n",
            "                                                                 \n",
            " dropout_1 (Dropout)         (None, 62, 62, 16)        0         \n",
            "                                                                 \n",
            " conv2d_3 (Conv2D)           (None, 62, 62, 16)        272       \n",
            "                                                                 \n",
            " batch_normalization_3 (Bat  (None, 62, 62, 16)        64        \n",
            " chNormalization)                                                \n",
            "                                                                 \n",
            " conv2d_4 (Conv2D)           (None, 60, 60, 32)        4640      \n",
            "                                                                 \n",
            " batch_normalization_4 (Bat  (None, 60, 60, 32)        128       \n",
            " chNormalization)                                                \n",
            "                                                                 \n",
            " average_pooling2d_2 (Avera  (None, 30, 30, 32)        0         \n",
            " gePooling2D)                                                    \n",
            "                                                                 \n",
            " dropout_2 (Dropout)         (None, 30, 30, 32)        0         \n",
            "                                                                 \n",
            " conv2d_5 (Conv2D)           (None, 30, 30, 32)        1056      \n",
            "                                                                 \n",
            " batch_normalization_5 (Bat  (None, 30, 30, 32)        128       \n",
            " chNormalization)                                                \n"
          ]
        },
        {
          "name": "stdout",
          "output_type": "stream",
          "text": [
            "                                                                 \n",
            " conv2d_6 (Conv2D)           (None, 28, 28, 64)        18496     \n",
            "                                                                 \n",
            " batch_normalization_6 (Bat  (None, 28, 28, 64)        256       \n",
            " chNormalization)                                                \n",
            "                                                                 \n",
            " average_pooling2d_3 (Avera  (None, 14, 14, 64)        0         \n",
            " gePooling2D)                                                    \n",
            "                                                                 \n",
            " dropout_3 (Dropout)         (None, 14, 14, 64)        0         \n",
            "                                                                 \n",
            " conv2d_7 (Conv2D)           (None, 14, 14, 64)        4160      \n",
            "                                                                 \n",
            " batch_normalization_7 (Bat  (None, 14, 14, 64)        256       \n",
            " chNormalization)                                                \n",
            "                                                                 \n",
            " conv2d_8 (Conv2D)           (None, 12, 12, 128)       73856     \n",
            "                                                                 \n",
            " batch_normalization_8 (Bat  (None, 12, 12, 128)       512       \n",
            " chNormalization)                                                \n",
            "                                                                 \n",
            " average_pooling2d_4 (Avera  (None, 6, 6, 128)         0         \n",
            " gePooling2D)                                                    \n",
            "                                                                 \n",
            " dropout_4 (Dropout)         (None, 6, 6, 128)         0         \n",
            "                                                                 \n",
            " flatten (Flatten)           (None, 4608)              0         \n",
            "                                                                 \n",
            " dropout_5 (Dropout)         (None, 4608)              0         \n",
            "                                                                 \n",
            " dense (Dense)               (None, 5000)              23045000  \n",
            "                                                                 \n",
            " batch_normalization_9 (Bat  (None, 5000)              20000     \n",
            " chNormalization)                                                \n",
            "                                                                 \n",
            " dropout_6 (Dropout)         (None, 5000)              0         \n",
            "                                                                 \n",
            " dense_1 (Dense)             (None, 2)                 10002     \n",
            "                                                                 \n",
            "=================================================================\n",
            "Total params: 23180802 (88.43 MB)\n",
            "Trainable params: 23170066 (88.39 MB)\n",
            "Non-trainable params: 10736 (41.94 KB)\n",
            "_________________________________________________________________\n"
          ]
        }
      ],
      "source": [
        "opt = tf.keras.optimizers.Adam(\n",
        "    learning_rate=0.001,\n",
        "    beta_1=0.9,\n",
        "    beta_2=0.999,\n",
        "    epsilon=1e-07,\n",
        "    amsgrad=False,\n",
        "    name=\"adam\"\n",
        ")\n",
        "'''\n",
        "opt = tf.keras.optimizers.SGD(\n",
        "    learning_rate=0.001,\n",
        "    momentum=0.2,\n",
        "    nesterov=False,\n",
        "    name=\"SGD\"\n",
        ")\n",
        "'''\n",
        "\n",
        "model.compile(\n",
        "    loss='categorical_crossentropy',\n",
        "    optimizer= opt,\n",
        "    metrics=['categorical_accuracy']\n",
        ")\n",
        "\n",
        "model.summary()"
      ]
    },
    {
      "cell_type": "code",
      "execution_count": 17,
      "metadata": {},
      "outputs": [],
      "source": [
        "# To prevent over fitting , stop the learning after 10 epochs and reduce learning rate after one steps\n",
        "fname = \"weights-best.hdf5\"\n",
        "#fname = \"weights-{epoch:02d}-{val_categorical_accuracy:.4f}.hdf5\"\n",
        "# To prevent over fitting , stop the learning after 10 epochs and reduce learning rate after one steps\n",
        "earlystop = EarlyStopping(\n",
        "    monitor='val_loss',\n",
        "    patience=5)\n",
        "learning_rate_reduction = ReduceLROnPlateau(\n",
        "    monitor='categorical_accuracy',\n",
        "    patience=2,\n",
        "    verbose=1,\n",
        "    factor=0.5,\n",
        "    min_lr=0.00001)\n",
        "model_checkpoint = ModelCheckpoint(\n",
        "    fname,\n",
        "    monitor='val_categorical_accuracy',\n",
        "    save_best_only=True,\n",
        "    save_weights_only=True,\n",
        "    verbose=1\n",
        ")\n",
        "\n",
        "# Saved callbacks parameters\n",
        "#callbacks = [earlystop, learning_rate_reduction,model_checkpoint]\n",
        "callbacks = [learning_rate_reduction,model_checkpoint]"
      ]
    },
    {
      "cell_type": "code",
      "execution_count": 18,
      "metadata": {},
      "outputs": [],
      "source": [
        "# Replace output label data\n",
        "tr[\"category\"] = tr[\"category\"].replace({0: 'Real', 1: 'Fake'})\n",
        "ts[\"category\"] = ts[\"category\"].replace({0: 'Real', 1: 'Fake'})\n",
        "vl[\"category\"] = vl[\"category\"].replace({0: 'Real', 1: 'Fake'})"
      ]
    },
    {
      "cell_type": "code",
      "execution_count": 19,
      "metadata": {},
      "outputs": [],
      "source": [
        "total_train = tr.shape[0]\n",
        "total_validate = vl.shape[0]\n",
        "total_test = ts.shape[0]\n",
        "batch_size = 32"
      ]
    },
    {
      "cell_type": "code",
      "execution_count": 20,
      "metadata": {},
      "outputs": [
        {
          "name": "stdout",
          "output_type": "stream",
          "text": [
            "Found 12509 validated image filenames belonging to 2 classes.\n"
          ]
        }
      ],
      "source": [
        "os.chdir(Path)\n",
        "trn = tr.sample(frac=1, random_state = 42)\n",
        "add = \"training\"\n",
        "\n",
        "# generic image data generator\n",
        "train_datagen = ImageDataGenerator(\n",
        "    #rotation_range=90,\n",
        "    rescale=1./255,\n",
        "    #shear_range=0.1,\n",
        "    #zoom_range=0.2,\n",
        "    #horizontal_flip=True,\n",
        "    #vertical_flip=False,\n",
        "    #width_shift_range=0.2,\n",
        "    #height_shift_range=0.2\n",
        "    #validation_split=0.7\n",
        ")\n",
        "\n",
        "# Train image data generator\n",
        "# Create new train folder directory which should have both the images real and fake combined.\n",
        "train_generator = train_datagen.flow_from_dataframe(\n",
        "    trn,\n",
        "    Path,\n",
        "    x_col='filename',\n",
        "    y_col='category',\n",
        "    seed=30,\n",
        "    target_size=IMAGE_SIZE,\n",
        "    class_mode='categorical',\n",
        "    #subset='training',\n",
        "    batch_size=batch_size,\n",
        "    shuffle= True\n",
        ")"
      ]
    },
    {
      "cell_type": "code",
      "execution_count": 21,
      "metadata": {},
      "outputs": [
        {
          "name": "stdout",
          "output_type": "stream",
          "text": [
            "Found 2681 validated image filenames belonging to 2 classes.\n"
          ]
        }
      ],
      "source": [
        "'''\n",
        "validation_generator = train_datagen.flow_from_dataframe(\n",
        "    trn,\n",
        "    add,\n",
        "    x_col='filename',\n",
        "    y_col='category',\n",
        "    seed=30,\n",
        "    target_size=IMAGE_SIZE,\n",
        "    class_mode='categorical',\n",
        "    subset='validation',\n",
        "    batch_size=batch_size,\n",
        "    shuffle=True\n",
        ")\n",
        "'''\n",
        "#os.chdir(Path)\n",
        "val = vl.sample(frac=1, random_state = 42)\n",
        "add = \"validation\"\n",
        "# Validation image data generator\n",
        "validation_datagen = ImageDataGenerator(\n",
        "    rescale=1./255)\n",
        "validation_generator = validation_datagen.flow_from_dataframe(\n",
        "    val,\n",
        "    Path,\n",
        "    x_col='filename',\n",
        "    y_col='category',\n",
        "    seed=30,\n",
        "    target_size=IMAGE_SIZE,\n",
        "    class_mode='categorical',\n",
        "    batch_size=batch_size,\n",
        "    shuffle=True\n",
        ")"
      ]
    },
    {
      "cell_type": "code",
      "execution_count": 22,
      "metadata": {},
      "outputs": [
        {
          "name": "stderr",
          "output_type": "stream",
          "text": [
            "/home/lucas/miniconda3/envs/tf/lib/python3.11/site-packages/keras/src/engine/training.py:3000: UserWarning: You are saving your model as an HDF5 file via `model.save()`. This file format is considered legacy. We recommend using instead the native Keras format, e.g. `model.save('my_model.keras')`.\n",
            "  saving_api.save_model(\n"
          ]
        }
      ],
      "source": [
        "model.save('model.h5',save_format='h5')"
      ]
    },
    {
      "cell_type": "code",
      "execution_count": 23,
      "metadata": {},
      "outputs": [],
      "source": [
        "#PathImg = 'D:/Google Drive/EnsinoAprendizagem/UFC/Mestrado/Dissertação/Imagens'\n",
        "PathImg = '/mnt/d/Google Drive/EnsinoAprendizagem/UFC/Mestrado/Dissertação/Imagens'"
      ]
    },
    {
      "cell_type": "code",
      "execution_count": 24,
      "metadata": {},
      "outputs": [
        {
          "data": {
            "text/plain": [
              "'\\n#input_L\\nplot_model(\\n    model,\\n    to_file = PathImg + \\'/modelIn.png\\',\\n    show_shapes=True,\\n    show_dtype=True,\\n    show_layer_names=False,\\n    rankdir=\"LR\",\\n    expand_nested=True,\\n    dpi=90,\\n    layer_range=[\"batch_normalization\", \"conv2d_1\"],\\n    show_layer_activations=True\\n    )'"
            ]
          },
          "execution_count": 24,
          "metadata": {},
          "output_type": "execute_result"
        }
      ],
      "source": [
        "'''\n",
        "#input_L\n",
        "plot_model(\n",
        "    model,\n",
        "    to_file = PathImg + '/modelIn.png',\n",
        "    show_shapes=True,\n",
        "    show_dtype=True,\n",
        "    show_layer_names=False,\n",
        "    rankdir=\"LR\",\n",
        "    expand_nested=True,\n",
        "    dpi=90,\n",
        "    layer_range=[\"batch_normalization\", \"conv2d_1\"],\n",
        "    show_layer_activations=True\n",
        "    )'''"
      ]
    },
    {
      "cell_type": "code",
      "execution_count": 25,
      "metadata": {},
      "outputs": [
        {
          "data": {
            "text/plain": [
              "'\\n# conv_L1\\nplot_model(\\n    model,\\n    to_file = PathImg + \\'/modelC1.png\\',\\n    show_shapes=True,\\n    show_dtype=True,\\n    show_layer_names=False,\\n    rankdir=\"LR\",\\n    expand_nested=True,\\n    dpi=90,\\n    layer_range=[\"batch_normalization_1\", \"conv2d_3\"],\\n    show_layer_activations=True\\n    )'"
            ]
          },
          "execution_count": 25,
          "metadata": {},
          "output_type": "execute_result"
        }
      ],
      "source": [
        "'''\n",
        "# conv_L1\n",
        "plot_model(\n",
        "    model,\n",
        "    to_file = PathImg + '/modelC1.png',\n",
        "    show_shapes=True,\n",
        "    show_dtype=True,\n",
        "    show_layer_names=False,\n",
        "    rankdir=\"LR\",\n",
        "    expand_nested=True,\n",
        "    dpi=90,\n",
        "    layer_range=[\"batch_normalization_1\", \"conv2d_3\"],\n",
        "    show_layer_activations=True\n",
        "    )'''\n"
      ]
    },
    {
      "cell_type": "code",
      "execution_count": 26,
      "metadata": {},
      "outputs": [
        {
          "data": {
            "text/plain": [
              "'\\n# conv_L2\\nplot_model(\\n    model,\\n    to_file = PathImg + \\'/modelC2.png\\',\\n    show_shapes=True,\\n    show_dtype=True,\\n    show_layer_names=False,\\n    rankdir=\"LR\",\\n    expand_nested=True,\\n    dpi=90,\\n    layer_range=[\"batch_normalization_3\", \"conv2d_5\"],\\n    show_layer_activations=True\\n    )'"
            ]
          },
          "execution_count": 26,
          "metadata": {},
          "output_type": "execute_result"
        }
      ],
      "source": [
        "'''\n",
        "# conv_L2\n",
        "plot_model(\n",
        "    model,\n",
        "    to_file = PathImg + '/modelC2.png',\n",
        "    show_shapes=True,\n",
        "    show_dtype=True,\n",
        "    show_layer_names=False,\n",
        "    rankdir=\"LR\",\n",
        "    expand_nested=True,\n",
        "    dpi=90,\n",
        "    layer_range=[\"batch_normalization_3\", \"conv2d_5\"],\n",
        "    show_layer_activations=True\n",
        "    )'''"
      ]
    },
    {
      "cell_type": "code",
      "execution_count": 27,
      "metadata": {},
      "outputs": [
        {
          "data": {
            "text/plain": [
              "'\\n# conv_L3\\nplot_model(\\n    model,\\n    to_file = PathImg + \\'/modelC3.png\\',\\n    show_shapes=True,\\n    show_dtype=True,\\n    show_layer_names=False,\\n    rankdir=\"LR\",\\n    expand_nested=True,\\n    dpi=90,\\n    layer_range=[\"batch_normalization_5\", \"conv2d_7\"],\\n    show_layer_activations=True\\n    )'"
            ]
          },
          "execution_count": 27,
          "metadata": {},
          "output_type": "execute_result"
        }
      ],
      "source": [
        "'''\n",
        "# conv_L3\n",
        "plot_model(\n",
        "    model,\n",
        "    to_file = PathImg + '/modelC3.png',\n",
        "    show_shapes=True,\n",
        "    show_dtype=True,\n",
        "    show_layer_names=False,\n",
        "    rankdir=\"LR\",\n",
        "    expand_nested=True,\n",
        "    dpi=90,\n",
        "    layer_range=[\"batch_normalization_5\", \"conv2d_7\"],\n",
        "    show_layer_activations=True\n",
        "    )'''"
      ]
    },
    {
      "cell_type": "code",
      "execution_count": 28,
      "metadata": {},
      "outputs": [
        {
          "data": {
            "text/plain": [
              "'\\n# conv_L4\\nplot_model(\\n    model,\\n    to_file = PathImg + \\'/modelC4.png\\',\\n    show_shapes=True,\\n    show_dtype=True,\\n    show_layer_names=False,\\n    rankdir=\"LR\",\\n    expand_nested=True,\\n    dpi=90,\\n    layer_range=[\"batch_normalization_7\", \"flatten\"],\\n    show_layer_activations=True\\n    )'"
            ]
          },
          "execution_count": 28,
          "metadata": {},
          "output_type": "execute_result"
        }
      ],
      "source": [
        "'''\n",
        "# conv_L4\n",
        "plot_model(\n",
        "    model,\n",
        "    to_file = PathImg + '/modelC4.png',\n",
        "    show_shapes=True,\n",
        "    show_dtype=True,\n",
        "    show_layer_names=False,\n",
        "    rankdir=\"LR\",\n",
        "    expand_nested=True,\n",
        "    dpi=90,\n",
        "    layer_range=[\"batch_normalization_7\", \"flatten\"],\n",
        "    show_layer_activations=True\n",
        "    )'''"
      ]
    },
    {
      "cell_type": "code",
      "execution_count": 29,
      "metadata": {},
      "outputs": [
        {
          "data": {
            "text/plain": [
              "'\\n# output_L\\nplot_model(\\n    model,\\n    to_file = PathImg + \\'/modelOut.png\\',\\n    show_shapes=True,\\n    show_dtype=True,\\n    show_layer_names=True,\\n    rankdir=\"LR\",\\n    expand_nested=True,\\n    dpi=90,\\n    layer_range = None,#[\"dropout_5\", \"dense_1\"], # Not working well\\n    show_layer_activations=True\\n    )'"
            ]
          },
          "execution_count": 29,
          "metadata": {},
          "output_type": "execute_result"
        }
      ],
      "source": [
        "'''\n",
        "# output_L\n",
        "plot_model(\n",
        "    model,\n",
        "    to_file = PathImg + '/modelOut.png',\n",
        "    show_shapes=True,\n",
        "    show_dtype=True,\n",
        "    show_layer_names=True,\n",
        "    rankdir=\"LR\",\n",
        "    expand_nested=True,\n",
        "    dpi=90,\n",
        "    layer_range = None,#[\"dropout_5\", \"dense_1\"], # Not working well\n",
        "    show_layer_activations=True\n",
        "    )'''"
      ]
    },
    {
      "cell_type": "code",
      "execution_count": 30,
      "metadata": {},
      "outputs": [
        {
          "data": {
            "text/plain": [
              "'#%pip install visualkeras\\nimport visualkeras as vk\\n#font = ImageFont.truetype(\"times.ttf\", 22)\\nvk.layered_view(\\n    model,\\n    legend=True,\\n    one_dim_orientation=\\'y\\',\\n    max_xy=800,\\n    #font=font,\\n    draw_volume=True,\\n    scale_xy=4\\n    )'"
            ]
          },
          "execution_count": 30,
          "metadata": {},
          "output_type": "execute_result"
        }
      ],
      "source": [
        "'''#%pip install visualkeras\n",
        "import visualkeras as vk\n",
        "#font = ImageFont.truetype(\"times.ttf\", 22)\n",
        "vk.layered_view(\n",
        "    model,\n",
        "    legend=True,\n",
        "    one_dim_orientation='y',\n",
        "    max_xy=800,\n",
        "    #font=font,\n",
        "    draw_volume=True,\n",
        "    scale_xy=4\n",
        "    )'''"
      ]
    },
    {
      "cell_type": "code",
      "execution_count": 31,
      "metadata": {},
      "outputs": [
        {
          "name": "stdout",
          "output_type": "stream",
          "text": [
            "Epoch 1/20\n"
          ]
        },
        {
          "name": "stderr",
          "output_type": "stream",
          "text": [
            "2023-11-28 07:26:47.495017: E tensorflow/core/grappler/optimizers/meta_optimizer.cc:954] layout failed: INVALID_ARGUMENT: Size of values 0 does not match size of permutation 4 @ fanin shape insequential/dropout/dropout/SelectV2-2-TransposeNHWCToNCHW-LayoutOptimizer\n",
            "2023-11-28 07:26:48.666663: I tensorflow/compiler/xla/stream_executor/cuda/cuda_dnn.cc:432] Loaded cuDNN version 8800\n",
            "2023-11-28 07:26:49.275839: I tensorflow/tsl/platform/default/subprocess.cc:304] Start cannot spawn child process: No such file or directory\n",
            "2023-11-28 07:26:49.860126: I tensorflow/compiler/xla/stream_executor/cuda/cuda_blas.cc:606] TensorFloat-32 will be used for the matrix multiplication. This will only be logged once.\n",
            "2023-11-28 07:26:50.042257: I tensorflow/compiler/xla/service/service.cc:168] XLA service 0x7fb3bc025080 initialized for platform CUDA (this does not guarantee that XLA will be used). Devices:\n",
            "2023-11-28 07:26:50.042401: I tensorflow/compiler/xla/service/service.cc:176]   StreamExecutor device (0): NVIDIA GeForce RTX 4070, Compute Capability 8.9\n",
            "2023-11-28 07:26:50.042426: I tensorflow/compiler/xla/service/service.cc:176]   StreamExecutor device (1): NVIDIA GeForce RTX 3060, Compute Capability 8.6\n",
            "2023-11-28 07:26:50.055580: I tensorflow/compiler/mlir/tensorflow/utils/dump_mlir_util.cc:255] disabling MLIR crash reproducer, set env var `MLIR_CRASH_REPRODUCER_DIRECTORY` to enable.\n",
            "2023-11-28 07:26:50.519015: I tensorflow/tsl/platform/default/subprocess.cc:304] Start cannot spawn child process: No such file or directory\n",
            "2023-11-28 07:26:50.605698: I ./tensorflow/compiler/jit/device_compiler.h:186] Compiled cluster using XLA!  This line is logged at most once for the lifetime of the process.\n"
          ]
        },
        {
          "name": "stdout",
          "output_type": "stream",
          "text": [
            "390/390 [==============================] - ETA: 0s - loss: 2.6052 - categorical_accuracy: 0.8815\n",
            "Epoch 1: val_categorical_accuracy improved from -inf to 0.49548, saving model to weights-best.hdf5\n",
            "390/390 [==============================] - 336s 829ms/step - loss: 2.6052 - categorical_accuracy: 0.8815 - val_loss: 27.9916 - val_categorical_accuracy: 0.4955 - lr: 0.0010\n",
            "Epoch 2/20\n",
            "390/390 [==============================] - ETA: 0s - loss: 1.8423 - categorical_accuracy: 0.9604\n",
            "Epoch 2: val_categorical_accuracy improved from 0.49548 to 0.60241, saving model to weights-best.hdf5\n",
            "390/390 [==============================] - 326s 837ms/step - loss: 1.8423 - categorical_accuracy: 0.9604 - val_loss: 5.1142 - val_categorical_accuracy: 0.6024 - lr: 0.0010\n",
            "Epoch 3/20\n",
            "390/390 [==============================] - ETA: 0s - loss: 1.6131 - categorical_accuracy: 0.9713\n",
            "Epoch 3: val_categorical_accuracy improved from 0.60241 to 0.90964, saving model to weights-best.hdf5\n",
            "390/390 [==============================] - 321s 823ms/step - loss: 1.6131 - categorical_accuracy: 0.9713 - val_loss: 2.0386 - val_categorical_accuracy: 0.9096 - lr: 0.0010\n",
            "Epoch 4/20\n",
            "390/390 [==============================] - ETA: 0s - loss: 1.6992 - categorical_accuracy: 0.9787\n",
            "Epoch 4: val_categorical_accuracy improved from 0.90964 to 0.93223, saving model to weights-best.hdf5\n",
            "390/390 [==============================] - 327s 837ms/step - loss: 1.6992 - categorical_accuracy: 0.9787 - val_loss: 2.0411 - val_categorical_accuracy: 0.9322 - lr: 0.0010\n",
            "Epoch 5/20\n",
            "390/390 [==============================] - ETA: 0s - loss: 1.7198 - categorical_accuracy: 0.9811\n",
            "Epoch 5: val_categorical_accuracy did not improve from 0.93223\n",
            "390/390 [==============================] - 326s 836ms/step - loss: 1.7198 - categorical_accuracy: 0.9811 - val_loss: 35.1281 - val_categorical_accuracy: 0.4936 - lr: 0.0010\n",
            "Epoch 6/20\n",
            "390/390 [==============================] - ETA: 0s - loss: 1.8451 - categorical_accuracy: 0.9842\n",
            "Epoch 6: val_categorical_accuracy improved from 0.93223 to 0.94541, saving model to weights-best.hdf5\n",
            "390/390 [==============================] - 329s 844ms/step - loss: 1.8451 - categorical_accuracy: 0.9842 - val_loss: 1.6268 - val_categorical_accuracy: 0.9454 - lr: 0.0010\n",
            "Epoch 7/20\n",
            "390/390 [==============================] - ETA: 0s - loss: 1.2777 - categorical_accuracy: 0.9871\n",
            "Epoch 7: val_categorical_accuracy did not improve from 0.94541\n",
            "390/390 [==============================] - 326s 836ms/step - loss: 1.2777 - categorical_accuracy: 0.9871 - val_loss: 1.4819 - val_categorical_accuracy: 0.9164 - lr: 0.0010\n",
            "Epoch 8/20\n",
            "390/390 [==============================] - ETA: 0s - loss: 1.0587 - categorical_accuracy: 0.9913\n",
            "Epoch 8: val_categorical_accuracy improved from 0.94541 to 0.95557, saving model to weights-best.hdf5\n",
            "390/390 [==============================] - 323s 826ms/step - loss: 1.0587 - categorical_accuracy: 0.9913 - val_loss: 1.3361 - val_categorical_accuracy: 0.9556 - lr: 0.0010\n",
            "Epoch 9/20\n",
            "390/390 [==============================] - ETA: 0s - loss: 1.4100 - categorical_accuracy: 0.9866\n",
            "Epoch 9: val_categorical_accuracy did not improve from 0.95557\n",
            "390/390 [==============================] - 327s 838ms/step - loss: 1.4100 - categorical_accuracy: 0.9866 - val_loss: 1.7944 - val_categorical_accuracy: 0.9119 - lr: 0.0010\n",
            "Epoch 10/20\n",
            "390/390 [==============================] - ETA: 0s - loss: 1.3576 - categorical_accuracy: 0.9889\n",
            "Epoch 10: ReduceLROnPlateau reducing learning rate to 0.0005000000237487257.\n",
            "\n",
            "Epoch 10: val_categorical_accuracy did not improve from 0.95557\n",
            "390/390 [==============================] - 320s 819ms/step - loss: 1.3576 - categorical_accuracy: 0.9889 - val_loss: 1.9304 - val_categorical_accuracy: 0.8547 - lr: 0.0010\n",
            "Epoch 11/20\n",
            "390/390 [==============================] - ETA: 0s - loss: 0.9910 - categorical_accuracy: 0.9949\n",
            "Epoch 11: val_categorical_accuracy improved from 0.95557 to 0.98117, saving model to weights-best.hdf5\n",
            "390/390 [==============================] - 320s 820ms/step - loss: 0.9910 - categorical_accuracy: 0.9949 - val_loss: 0.8551 - val_categorical_accuracy: 0.9812 - lr: 5.0000e-04\n",
            "Epoch 12/20\n",
            "390/390 [==============================] - ETA: 0s - loss: 0.6898 - categorical_accuracy: 0.9954\n",
            "Epoch 12: val_categorical_accuracy improved from 0.98117 to 0.99812, saving model to weights-best.hdf5\n",
            "390/390 [==============================] - 324s 830ms/step - loss: 0.6898 - categorical_accuracy: 0.9954 - val_loss: 0.6764 - val_categorical_accuracy: 0.9981 - lr: 5.0000e-04\n",
            "Epoch 13/20\n",
            "390/390 [==============================] - ETA: 0s - loss: 0.6261 - categorical_accuracy: 0.9938\n",
            "Epoch 13: val_categorical_accuracy did not improve from 0.99812\n",
            "390/390 [==============================] - 326s 834ms/step - loss: 0.6261 - categorical_accuracy: 0.9938 - val_loss: 0.8276 - val_categorical_accuracy: 0.9198 - lr: 5.0000e-04\n",
            "Epoch 14/20\n",
            "390/390 [==============================] - ETA: 0s - loss: 0.5401 - categorical_accuracy: 0.9942\n",
            "Epoch 14: ReduceLROnPlateau reducing learning rate to 0.0002500000118743628.\n",
            "\n",
            "Epoch 14: val_categorical_accuracy improved from 0.99812 to 0.99925, saving model to weights-best.hdf5\n",
            "390/390 [==============================] - 393s 1s/step - loss: 0.5401 - categorical_accuracy: 0.9942 - val_loss: 0.4780 - val_categorical_accuracy: 0.9992 - lr: 5.0000e-04\n",
            "Epoch 15/20\n",
            "390/390 [==============================] - ETA: 0s - loss: 0.4391 - categorical_accuracy: 0.9963\n",
            "Epoch 15: val_categorical_accuracy improved from 0.99925 to 1.00000, saving model to weights-best.hdf5\n",
            "390/390 [==============================] - 329s 842ms/step - loss: 0.4391 - categorical_accuracy: 0.9963 - val_loss: 0.3572 - val_categorical_accuracy: 1.0000 - lr: 2.5000e-04\n",
            "Epoch 16/20\n",
            "390/390 [==============================] - ETA: 0s - loss: 0.3035 - categorical_accuracy: 0.9986\n",
            "Epoch 16: val_categorical_accuracy did not improve from 1.00000\n",
            "390/390 [==============================] - 320s 820ms/step - loss: 0.3035 - categorical_accuracy: 0.9986 - val_loss: 0.2383 - val_categorical_accuracy: 1.0000 - lr: 2.5000e-04\n",
            "Epoch 17/20\n",
            "390/390 [==============================] - ETA: 0s - loss: 0.2627 - categorical_accuracy: 0.9980\n",
            "Epoch 17: val_categorical_accuracy did not improve from 1.00000\n",
            "390/390 [==============================] - 323s 828ms/step - loss: 0.2627 - categorical_accuracy: 0.9980 - val_loss: 0.2367 - val_categorical_accuracy: 0.9992 - lr: 2.5000e-04\n",
            "Epoch 18/20\n",
            "390/390 [==============================] - ETA: 0s - loss: 0.3047 - categorical_accuracy: 0.9961\n",
            "Epoch 18: ReduceLROnPlateau reducing learning rate to 0.0001250000059371814.\n",
            "\n",
            "Epoch 18: val_categorical_accuracy did not improve from 1.00000\n",
            "390/390 [==============================] - 323s 828ms/step - loss: 0.3047 - categorical_accuracy: 0.9961 - val_loss: 0.2754 - val_categorical_accuracy: 0.9974 - lr: 2.5000e-04\n",
            "Epoch 19/20\n",
            "390/390 [==============================] - ETA: 0s - loss: 0.2159 - categorical_accuracy: 0.9992\n",
            "Epoch 19: val_categorical_accuracy did not improve from 1.00000\n",
            "390/390 [==============================] - 322s 825ms/step - loss: 0.2159 - categorical_accuracy: 0.9992 - val_loss: 0.1908 - val_categorical_accuracy: 0.9992 - lr: 1.2500e-04\n",
            "Epoch 20/20\n",
            "390/390 [==============================] - ETA: 0s - loss: 0.1649 - categorical_accuracy: 0.9994\n",
            "Epoch 20: val_categorical_accuracy did not improve from 1.00000\n",
            "390/390 [==============================] - 321s 823ms/step - loss: 0.1649 - categorical_accuracy: 0.9994 - val_loss: 0.1493 - val_categorical_accuracy: 0.9992 - lr: 1.2500e-04\n"
          ]
        }
      ],
      "source": [
        "#tf.tf_reset_default_graph()\n",
        "\n",
        "# Treinamento e validação da rede\n",
        "Epochs = 20 if FAST_RUN else 100\n",
        "history = model.fit(\n",
        "    #tf.constant(trn['filename']),\n",
        "    #tf.constant(trn['category']),\n",
        "    train_generator,\n",
        "    epochs=Epochs,\n",
        "    #shuffle=True,\n",
        "    #batch_size=None,\n",
        "    #validation_split=0.2,\n",
        "    validation_data=validation_generator,#train_generator,\n",
        "    validation_steps=total_validate//batch_size,#total_train//batch_size,\n",
        "    steps_per_epoch=total_train//batch_size,#100,\n",
        "    # [Originally steps per epoch should be total_train//batch_size but for now lets try with 50]\n",
        "    callbacks=callbacks\n",
        ")"
      ]
    },
    {
      "cell_type": "code",
      "execution_count": 32,
      "metadata": {},
      "outputs": [
        {
          "data": {
            "text/plain": [
              "<matplotlib.legend.Legend at 0x7fb48849f650>"
            ]
          },
          "execution_count": 32,
          "metadata": {},
          "output_type": "execute_result"
        },
        {
          "data": {
            "image/png": "[encoded data removed]",
            "text/plain": [
              "<Figure size 640x480 with 1 Axes>"
            ]
          },
          "metadata": {},
          "output_type": "display_data"
        },
        {
          "data": {
            "image/png": "[encoded data removed]",
            "text/plain": [
              "<Figure size 640x480 with 1 Axes>"
            ]
          },
          "metadata": {},
          "output_type": "display_data"
        },
        {
          "data": {
            "image/png": "[encoded data removed]",
            "text/plain": [
              "<Figure size 640x480 with 1 Axes>"
            ]
          },
          "metadata": {},
          "output_type": "display_data"
        }
      ],
      "source": [
        "# ----------------------------------- Teste da rede -----------------------------#\n",
        "\n",
        "plt.figure()\n",
        "plt.plot(history.history['categorical_accuracy'], label='cat_accuracy')\n",
        "plt.plot(history.history['val_categorical_accuracy'], label = 'val_cat_accuracy')\n",
        "plt.xlabel('Epoch')\n",
        "plt.ylabel('Accuracy')\n",
        "plt.ylim([0.5, 1])\n",
        "plt.legend(loc='lower right')\n",
        "\n",
        "plt.figure()\n",
        "plt.plot(history.history['loss'], label='loss')\n",
        "plt.plot(history.history['val_loss'], label='val_loss')\n",
        "plt.xlabel('Epoch')\n",
        "plt.ylabel('Loss')\n",
        "plt.legend(loc='lower right')\n",
        "\n",
        "plt.figure()\n",
        "plt.plot(history.history['lr'], label='learning_rate')\n",
        "plt.xlabel('Epochs')\n",
        "plt.ylabel('Learning Rate')\n",
        "plt.legend()"
      ]
    },
    {
      "cell_type": "markdown",
      "metadata": {},
      "source": [
        "Carregar o modelo com melhor resultado de acurácia"
      ]
    },
    {
      "cell_type": "code",
      "execution_count": 33,
      "metadata": {},
      "outputs": [],
      "source": [
        "model.load_weights(fname)\n",
        "model.compile(\n",
        "    loss='categorical_crossentropy',\n",
        "    optimizer= opt,\n",
        "    metrics=['categorical_accuracy']\n",
        ")"
      ]
    },
    {
      "cell_type": "code",
      "execution_count": 34,
      "metadata": {},
      "outputs": [
        {
          "name": "stdout",
          "output_type": "stream",
          "text": [
            "Found 2680 validated image filenames belonging to 2 classes.\n"
          ]
        }
      ],
      "source": [
        "os.chdir(Path)\n",
        "test = ts.sample(frac = 1, random_state = 42)\n",
        "add = \"testing\"\n",
        "# Used above created test dataset for test image data generator\n",
        "test_datagen = ImageDataGenerator(\n",
        "    rescale=1./255)\n",
        "test_generator = test_datagen.flow_from_dataframe(\n",
        "    test,\n",
        "    Path,\n",
        "    x_col='filename',\n",
        "    y_col='category',\n",
        "    seed=30,\n",
        "    target_size=IMAGE_SIZE,\n",
        "    class_mode='categorical',\n",
        "    batch_size=batch_size,\n",
        "    shuffle=False\n",
        ")"
      ]
    },
    {
      "cell_type": "code",
      "execution_count": 35,
      "metadata": {},
      "outputs": [
        {
          "name": "stdout",
          "output_type": "stream",
          "text": [
            "84/84 [==============================] - 70s 826ms/step\n"
          ]
        }
      ],
      "source": [
        "predict = model.predict(\n",
        "    test_generator,\n",
        "    steps=np.ceil(total_test/batch_size),\n",
        "    verbose=1)\n",
        "\n",
        "#test['Pred_category'] = tf.greater(predict, .5)\n",
        "test['Pred_category'] = np.argmax(predict, axis=1)\n",
        "\n",
        "label_map = dict((v, k) for k, v in train_generator.class_indices.items())\n",
        "test['Pred_category'] = test['Pred_category'].replace(label_map)"
      ]
    },
    {
      "cell_type": "code",
      "execution_count": 36,
      "metadata": {},
      "outputs": [
        {
          "data": {
            "text/plain": [
              "<Figure size 640x480 with 0 Axes>"
            ]
          },
          "metadata": {},
          "output_type": "display_data"
        },
        {
          "data": {
            "image/png": "[encoded data removed]",
            "text/plain": [
              "<Figure size 640x480 with 1 Axes>"
            ]
          },
          "metadata": {},
          "output_type": "display_data"
        },
        {
          "data": {
            "image/png": "[encoded data removed]",
            "text/plain": [
              "<Figure size 640x480 with 1 Axes>"
            ]
          },
          "metadata": {},
          "output_type": "display_data"
        }
      ],
      "source": [
        "plt.figure()\n",
        "plt.subplots(1, 1)\n",
        "test['category'].value_counts().plot.bar()\n",
        "plt.subplots(1, 1)\n",
        "test['Pred_category'].value_counts().plot.bar()\n",
        "plt.show()"
      ]
    },
    {
      "cell_type": "code",
      "execution_count": 37,
      "metadata": {},
      "outputs": [
        {
          "data": {
            "text/plain": [
              "category\n",
              "Fake    1347\n",
              "Real    1333\n",
              "Name: count, dtype: int64"
            ]
          },
          "execution_count": 37,
          "metadata": {},
          "output_type": "execute_result"
        }
      ],
      "source": [
        "test['category'].value_counts()"
      ]
    },
    {
      "cell_type": "code",
      "execution_count": 38,
      "metadata": {},
      "outputs": [
        {
          "data": {
            "text/plain": [
              "Pred_category\n",
              "Fake    1348\n",
              "Real    1332\n",
              "Name: count, dtype: int64"
            ]
          },
          "execution_count": 38,
          "metadata": {},
          "output_type": "execute_result"
        }
      ],
      "source": [
        "test['Pred_category'].value_counts()"
      ]
    },
    {
      "cell_type": "code",
      "execution_count": 39,
      "metadata": {},
      "outputs": [
        {
          "name": "stdout",
          "output_type": "stream",
          "text": [
            "Prediction Accuracy = 0.9996268656716418\n"
          ]
        }
      ],
      "source": [
        "print('Prediction Accuracy =',metrics.accuracy_score(test['category'], test['Pred_category']))"
      ]
    },
    {
      "cell_type": "code",
      "execution_count": 40,
      "metadata": {},
      "outputs": [
        {
          "name": "stdout",
          "output_type": "stream",
          "text": [
            "84/84 [==============================] - 59s 688ms/step - loss: 0.3578 - categorical_accuracy: 0.9996\n",
            "categorical_accuracy: 99.96%\n"
          ]
        }
      ],
      "source": [
        "scores = model.evaluate(test_generator, steps=np.ceil(\n",
        "    total_test/batch_size), verbose=1)\n",
        "print(\"%s: %.2f%%\" % (model.metrics_names[1], scores[1]*100))"
      ]
    },
    {
      "cell_type": "code",
      "execution_count": 41,
      "metadata": {},
      "outputs": [
        {
          "data": {
            "image/png": "[encoded data removed]",
            "text/plain": [
              "<Figure size 640x480 with 2 Axes>"
            ]
          },
          "metadata": {},
          "output_type": "display_data"
        }
      ],
      "source": [
        "conf = confusion_matrix(y_pred=test['Pred_category'],y_true=test['category'])\n",
        "disp = ConfusionMatrixDisplay(conf)\n",
        "disp.plot()\n",
        "plt.show()"
      ]
    },
    {
      "cell_type": "code",
      "execution_count": 42,
      "metadata": {},
      "outputs": [
        {
          "name": "stdout",
          "output_type": "stream",
          "text": [
            "--- 7047.150557041168 seconds ---\n"
          ]
        }
      ],
      "source": [
        "# Tempo total de processamento\n",
        "print(\"--- %s seconds ---\" % (time.time() - start_time))"
      ]
    }
  ],
  "metadata": {
    "accelerator": "GPU",
    "colab": {
      "provenance": []
    },
    "gpuClass": "standard",
    "kernelspec": {
      "display_name": "base",
      "language": "python",
      "name": "python3"
    },
    "language_info": {
      "codemirror_mode": {
        "name": "ipython",
        "version": 3
      },
      "file_extension": ".py",
      "mimetype": "text/x-python",
      "name": "python",
      "nbconvert_exporter": "python",
      "pygments_lexer": "ipython3",
      "version": "3.11.5"
    },
    "vscode": {
      "interpreter": {
        "hash": "6f534eedfbed9e626bbc17a8d55623103bdb651c8b6b10dfa792c8fc8a590f45"
      }
    }
  },
  "nbformat": 4,
  "nbformat_minor": 0
}
